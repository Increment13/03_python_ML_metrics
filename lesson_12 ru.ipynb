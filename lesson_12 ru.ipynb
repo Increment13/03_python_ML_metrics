{
 "cells": [
  {
   "cell_type": "markdown",
   "id": "596f29d5-b01b-4fba-9911-c4d3c93a3828",
   "metadata": {},
   "source": [
    "# Подготовка признаков "
   ]
  },
  {
   "cell_type": "markdown",
   "id": "8455eacb-0bec-451d-89f8-90710b3c743f",
   "metadata": {},
   "source": [
    "<img src=\"./pict/MLmem.jpg\"  \n",
    "  width=\"600\"\n",
    "/>"
   ]
  },
  {
   "cell_type": "markdown",
   "id": "aad451e0-9e26-4a43-a72b-825d3b305ad2",
   "metadata": {},
   "source": [
    "Чтобы предсказать класс, обратимся к знакомой логистической регрессии.\n",
    "\n",
    "Логистическая регрессия подходит для задачи классификации. Например, как у нас, когда выбор между двумя категориями — потребуется страховая выплата или нет. \n",
    "Попробуем обучить нашу модель. Как думаете, получится это сделать на сырых данных? Рискнём."
   ]
  },
  {
   "cell_type": "code",
   "execution_count": 1,
   "id": "735f7c2c-9913-46d7-9c23-b93be88df164",
   "metadata": {},
   "outputs": [],
   "source": [
    "import pandas as pd\n",
    "import numpy as np\n",
    "from sklearn.model_selection import train_test_split\n",
    "from sklearn.linear_model import LogisticRegression\n",
    "\n",
    "data = pd.read_csv('./data/travel_insurance.csv')"
   ]
  },
  {
   "cell_type": "code",
   "execution_count": 2,
   "id": "c4a35553-6ec6-4a86-902e-33e4e3e4b8c7",
   "metadata": {},
   "outputs": [
    {
     "data": {
      "text/html": [
       "<div>\n",
       "<style scoped>\n",
       "    .dataframe tbody tr th:only-of-type {\n",
       "        vertical-align: middle;\n",
       "    }\n",
       "\n",
       "    .dataframe tbody tr th {\n",
       "        vertical-align: top;\n",
       "    }\n",
       "\n",
       "    .dataframe thead th {\n",
       "        text-align: right;\n",
       "    }\n",
       "</style>\n",
       "<table border=\"1\" class=\"dataframe\">\n",
       "  <thead>\n",
       "    <tr style=\"text-align: right;\">\n",
       "      <th></th>\n",
       "      <th>Agency</th>\n",
       "      <th>Agency Type</th>\n",
       "      <th>Distribution Channel</th>\n",
       "      <th>Product Name</th>\n",
       "      <th>Claim</th>\n",
       "      <th>Duration</th>\n",
       "      <th>Destination</th>\n",
       "      <th>Net Sales</th>\n",
       "      <th>Commision (in value)</th>\n",
       "      <th>Gender</th>\n",
       "      <th>Age</th>\n",
       "    </tr>\n",
       "  </thead>\n",
       "  <tbody>\n",
       "    <tr>\n",
       "      <th>0</th>\n",
       "      <td>CBH</td>\n",
       "      <td>Travel Agency</td>\n",
       "      <td>Offline</td>\n",
       "      <td>Comprehensive Plan</td>\n",
       "      <td>No</td>\n",
       "      <td>186</td>\n",
       "      <td>MALAYSIA</td>\n",
       "      <td>-29.0</td>\n",
       "      <td>9.57</td>\n",
       "      <td>F</td>\n",
       "      <td>81</td>\n",
       "    </tr>\n",
       "    <tr>\n",
       "      <th>1</th>\n",
       "      <td>CBH</td>\n",
       "      <td>Travel Agency</td>\n",
       "      <td>Offline</td>\n",
       "      <td>Comprehensive Plan</td>\n",
       "      <td>No</td>\n",
       "      <td>186</td>\n",
       "      <td>MALAYSIA</td>\n",
       "      <td>-29.0</td>\n",
       "      <td>9.57</td>\n",
       "      <td>F</td>\n",
       "      <td>71</td>\n",
       "    </tr>\n",
       "    <tr>\n",
       "      <th>2</th>\n",
       "      <td>CWT</td>\n",
       "      <td>Travel Agency</td>\n",
       "      <td>Online</td>\n",
       "      <td>Rental Vehicle Excess Insurance</td>\n",
       "      <td>No</td>\n",
       "      <td>65</td>\n",
       "      <td>AUSTRALIA</td>\n",
       "      <td>-49.5</td>\n",
       "      <td>29.70</td>\n",
       "      <td>NaN</td>\n",
       "      <td>32</td>\n",
       "    </tr>\n",
       "    <tr>\n",
       "      <th>3</th>\n",
       "      <td>CWT</td>\n",
       "      <td>Travel Agency</td>\n",
       "      <td>Online</td>\n",
       "      <td>Rental Vehicle Excess Insurance</td>\n",
       "      <td>No</td>\n",
       "      <td>60</td>\n",
       "      <td>AUSTRALIA</td>\n",
       "      <td>-39.6</td>\n",
       "      <td>23.76</td>\n",
       "      <td>NaN</td>\n",
       "      <td>32</td>\n",
       "    </tr>\n",
       "    <tr>\n",
       "      <th>4</th>\n",
       "      <td>CWT</td>\n",
       "      <td>Travel Agency</td>\n",
       "      <td>Online</td>\n",
       "      <td>Rental Vehicle Excess Insurance</td>\n",
       "      <td>No</td>\n",
       "      <td>79</td>\n",
       "      <td>ITALY</td>\n",
       "      <td>-19.8</td>\n",
       "      <td>11.88</td>\n",
       "      <td>NaN</td>\n",
       "      <td>41</td>\n",
       "    </tr>\n",
       "  </tbody>\n",
       "</table>\n",
       "</div>"
      ],
      "text/plain": [
       "  Agency    Agency Type Distribution Channel                     Product Name  \\\n",
       "0    CBH  Travel Agency              Offline               Comprehensive Plan   \n",
       "1    CBH  Travel Agency              Offline               Comprehensive Plan   \n",
       "2    CWT  Travel Agency               Online  Rental Vehicle Excess Insurance   \n",
       "3    CWT  Travel Agency               Online  Rental Vehicle Excess Insurance   \n",
       "4    CWT  Travel Agency               Online  Rental Vehicle Excess Insurance   \n",
       "\n",
       "  Claim  Duration Destination  Net Sales  Commision (in value) Gender  Age  \n",
       "0    No       186    MALAYSIA      -29.0                  9.57      F   81  \n",
       "1    No       186    MALAYSIA      -29.0                  9.57      F   71  \n",
       "2    No        65   AUSTRALIA      -49.5                 29.70    NaN   32  \n",
       "3    No        60   AUSTRALIA      -39.6                 23.76    NaN   32  \n",
       "4    No        79       ITALY      -19.8                 11.88    NaN   41  "
      ]
     },
     "execution_count": 2,
     "metadata": {},
     "output_type": "execute_result"
    }
   ],
   "source": [
    "data.head()"
   ]
  },
  {
   "cell_type": "code",
   "execution_count": 3,
   "id": "73846cf4-f928-4afc-a00b-f9403acce3dc",
   "metadata": {},
   "outputs": [],
   "source": [
    "train, valid = train_test_split(data, test_size=0.25, random_state=12345)\n",
    "\n",
    "features_train = train.drop('Claim', axis=1)\n",
    "target_train = train['Claim']\n",
    "features_valid = valid.drop('Claim', axis=1)\n",
    "target_valid = valid['Claim']"
   ]
  },
  {
   "cell_type": "code",
   "execution_count": 66,
   "id": "7b3bcf18-0ed8-4472-a49d-5cc5a178c336",
   "metadata": {},
   "outputs": [],
   "source": [
    "model = LogisticRegression()\n",
    "model.fit(features_train, target_train) "
   ]
  },
  {
   "cell_type": "markdown",
   "id": "50b2e26b-e8ff-467c-ab9a-88f75254d6dc",
   "metadata": {},
   "source": [
    "Теперь можете сказать: «А я говорил/говорила!» Действительно, ошибка. \n",
    "\n",
    "Почему это произошло?\n",
    "\n",
    "Принадлежность к категории логистическая регрессия вычисляет по формуле, состоящей из признаков. Они могут быть только численные. Наши данные содержали и категориальные признаки тоже — в этом и была ошибка."
   ]
  },
  {
   "cell_type": "markdown",
   "id": "2f555e37-51f0-4c47-b4f8-e20465fbb2f6",
   "metadata": {},
   "source": [
    "## Прямое кодирование"
   ]
  },
  {
   "cell_type": "markdown",
   "id": "c022d2d8-a5ae-4158-be1b-0262e4dc9901",
   "metadata": {},
   "source": [
    "Преобразовать категориальные признаки в численные поможет техника прямого кодирования, или отображения (One-Hot Encoding, OHE).\n",
    "\n",
    "Принцип работы One-Hot Encoding объясним на значениях признака Gender."
   ]
  },
  {
   "cell_type": "markdown",
   "id": "adad325c-cc19-4760-9fb7-bf86044a8afb",
   "metadata": {},
   "source": [
    "Для каждого значения признака Gender (F, M, None) создаётся столбец:\n",
    "    \n",
    "- Gender_F (от англ. female, «женщина»),\n",
    "- Gender_M (от англ. male, «мужчина»),\n",
    "- Gender_None (данных о поле нет)."
   ]
  },
  {
   "cell_type": "markdown",
   "id": "b2a77154-4a5c-49b2-86ae-f2d9e26b1918",
   "metadata": {},
   "source": [
    "<img src=\"./pict/10.png\"  \n",
    "  width=\"600\"\n",
    "/>"
   ]
  },
  {
   "cell_type": "markdown",
   "id": "08608506-ed66-444e-b919-95ae6b60e806",
   "metadata": {},
   "source": [
    "Резюмируем. Техникой OHE категориальные признаки переводятся в численные в два этапа:\n",
    "- Для каждого значения признака создаётся новый столбец;\n",
    "- Если объекту категория подходит, присваивается 1, если нет — 0.\n",
    "\n",
    "Новые признаки (Gender_F, Gender_M, Gender_None) называются dummy-variable.\n",
    "\n",
    "Для прямого кодирования в библиотеке pandas есть функция `pd.get_dummies()` («получить фиктивные переменные»)."
   ]
  },
  {
   "cell_type": "markdown",
   "id": "ee4746f6-24df-462f-a467-c7fcc628dfd5",
   "metadata": {},
   "source": [
    "## Дамми-ловушка"
   ]
  },
  {
   "cell_type": "markdown",
   "id": "8a1b3268-b32d-41e8-a3e1-43b11692a062",
   "metadata": {},
   "source": [
    "С прямым кодированием не всё так просто. Когда данных в избытке, можно угодить в ловушку фиктивных признаков. Расскажем, как в неё не попасть."
   ]
  },
  {
   "cell_type": "markdown",
   "id": "48f1d436-0fc2-4272-b803-3e426a83545e",
   "metadata": {},
   "source": [
    "Чтобы подать документы на визу в США, нужно доказать, что деньги у вас есть. Вы решили перестраховаться, поэтому взяли и выписку с банковского счёта, и справку с работы, и 2-НДФЛ. Хотя визовому центру достаточно двух документов. \n",
    "\n",
    "Вашей модели лишняя информация тоже не очень-то нужна. Если оставить всё как есть, обучаться она будет сложнее. "
   ]
  },
  {
   "cell_type": "markdown",
   "id": "52ad323d-28f1-487e-b1bf-d1b2170ed75c",
   "metadata": {},
   "source": [
    "В таблицу добавились три новых столбца. Поскольку они сильно связаны между собой, один удалим без сожаления. Восстановить столбец можно по оставшимся двум. Так мы не попадём в дамми-ловушку"
   ]
  },
  {
   "cell_type": "markdown",
   "id": "fbb3f360-b0e7-4752-824f-3ad51e0dae4c",
   "metadata": {},
   "source": [
    "Столбец уберём вызовом функции `pd.get_dummies()` с аргументом `drop_first`. \n",
    "\n",
    "Он удаляет первую колонку и передаётся как `drop_first=True` или `drop_first=False` (True — первый столбец сбрасывается, False — не сбрасывается)."
   ]
  },
  {
   "cell_type": "markdown",
   "id": "f3eb7be1-c249-44c1-b113-59f2a5e5de97",
   "metadata": {},
   "source": [
    "Обучая логистическую регрессию, вы можете столкнуться с предупреждением библиотеки sklearn. Чтобы его отключить, укажите аргумент `solver='liblinear'`"
   ]
  },
  {
   "cell_type": "raw",
   "id": "ffa43eea-f75f-4f3b-a628-3ccbfbf8d434",
   "metadata": {},
   "source": [
    "model = LogisticRegression(solver='liblinear')"
   ]
  },
  {
   "cell_type": "markdown",
   "id": "78ab6ebd-a388-48d8-bf53-d1a4988b1626",
   "metadata": {},
   "source": [
    "## Порядковое кодирование"
   ]
  },
  {
   "cell_type": "markdown",
   "id": "6d30b441-d2bb-4682-a54b-9ab153fe9216",
   "metadata": {},
   "source": [
    "Расскажем о другой технике кодирования признаков в решающем дереве и случайном лесе.\n",
    "\n",
    "Если решающее дерево задаёт вопросы в узлах, значит, может работать и с категориальными признаками? "
   ]
  },
  {
   "cell_type": "markdown",
   "id": "62e0bd52-a93c-4baa-813f-506a6da0fac3",
   "metadata": {},
   "source": [
    "<img src=\"./pict/1.jpg\"  \n",
    "  width=\"1100\"\n",
    "/>"
   ]
  },
  {
   "cell_type": "markdown",
   "id": "18c58db2-5d0b-41b1-b675-34c099672af1",
   "metadata": {},
   "source": [
    "А теперь попробуем обучить модель: "
   ]
  },
  {
   "cell_type": "code",
   "execution_count": 5,
   "id": "d884b08b-98e1-4e00-a343-1c4f4b7a0106",
   "metadata": {},
   "outputs": [],
   "source": [
    "# from sklearn.tree import DecisionTreeClassifier\n",
    "\n",
    "# tree = DecisionTreeClassifier(random_state=12345)\n",
    "# tree.fit(features_train, target_train) "
   ]
  },
  {
   "cell_type": "markdown",
   "id": "3e375ea8-a13c-4fe0-b48c-715da51b2237",
   "metadata": {},
   "source": [
    "Опять ошибка. Вызвана тем, как решающее дерево обучается в библиотеке `sklearn`."
   ]
  },
  {
   "cell_type": "markdown",
   "id": "76211028-4f3b-4ffe-96b9-4dfa89947a26",
   "metadata": {},
   "source": [
    "Как это починить? Нужна новая техника, чтобы закодировать цифрами выраженные в тексте категории —  Ordinal Encoding. Она работает так:\n",
    "- Фиксируется, какой цифрой кодируется класс;\n",
    "- Цифры размещаются в столбце."
   ]
  },
  {
   "cell_type": "markdown",
   "id": "3b379458-1875-429a-abed-3cf45fe6b50d",
   "metadata": {},
   "source": [
    "Техника подходит для преобразования признаков в решающем дереве и случайном лесе"
   ]
  },
  {
   "cell_type": "markdown",
   "id": "b9d922a8-644f-448e-a0aa-e06f226981f1",
   "metadata": {},
   "source": [
    "<img src=\"./pict/11.png\"  \n",
    "  width=\"300\"\n",
    "/>"
   ]
  },
  {
   "cell_type": "markdown",
   "id": "c4a1f757-aeb9-4135-a67c-5ee2db811c55",
   "metadata": {},
   "source": [
    "Преобразование выполняется в три этапа: \n",
    "1. Создаём объект этой структуры данных."
   ]
  },
  {
   "cell_type": "raw",
   "id": "80d3b4b1-6a97-4e4a-bd28-99e907c7c13f",
   "metadata": {},
   "source": [
    "encoder = OrdinalEncoder() "
   ]
  },
  {
   "cell_type": "markdown",
   "id": "26edb24e-bf52-412f-be86-84e336678d4f",
   "metadata": {},
   "source": [
    "2. Чтобы получить список категориальных признаков, вызываем метод fit() — как и в обучении модели. Передаём ему данные как аргумент."
   ]
  },
  {
   "cell_type": "raw",
   "id": "a5daf011-eb12-48a1-89c7-7e289f1979bf",
   "metadata": {},
   "source": [
    "encoder.fit(data) "
   ]
  },
  {
   "cell_type": "markdown",
   "id": "ed1f9f1b-8d80-4a0d-9a68-8a13e1039c60",
   "metadata": {},
   "source": [
    "3. Преобразуем данные функцией transform(). Изменённые данные будут храниться в переменной data_ordinal."
   ]
  },
  {
   "cell_type": "raw",
   "id": "fc00da89-9cab-48e0-bbe6-0dfdab3136fa",
   "metadata": {},
   "source": [
    "data_ordinal = encoder.transform(data) "
   ]
  },
  {
   "cell_type": "markdown",
   "id": "6b471a70-c2fe-46a9-8a36-278348c81d3b",
   "metadata": {},
   "source": [
    "Чтобы код добавил названия столбцов, оформим данные в структуру DataFrame():"
   ]
  },
  {
   "cell_type": "raw",
   "id": "07fa66c1-a63a-4b71-9fa6-a5a19f55a722",
   "metadata": {},
   "source": [
    "data_ordinal = pd.DataFrame(encoder.transform(data), columns=data.columns) "
   ]
  },
  {
   "cell_type": "markdown",
   "id": "c61e9789-d412-4eb0-bf59-0783f9af6528",
   "metadata": {},
   "source": [
    "Если преобразование признаков требуется лишь один раз, как в нашей задаче, код можно упростить вызовом функции fit_transform(). Она объединяет функции: fit() и transform(). "
   ]
  },
  {
   "cell_type": "raw",
   "id": "36a9b4b0-7371-4aa1-aca7-016338b963aa",
   "metadata": {},
   "source": [
    "data_ordinal = pd.DataFrame(encoder.fit_transform(data), columns=data.columns) "
   ]
  },
  {
   "cell_type": "markdown",
   "id": "bad9bb83-4c62-4d53-badd-0ea939772f8e",
   "metadata": {},
   "source": [
    "## Итоги кодирования"
   ]
  },
  {
   "cell_type": "markdown",
   "id": "ed6ebc65-c7fc-4f47-b5e2-9ebdb38f4d89",
   "metadata": {},
   "source": [
    "Разберёмся, какую кодировку выбрать и почему Ordinal Encoding не подходит для логистической регрессии.\n",
    "\n",
    "Вы познакомились с двумя техниками кодирования категориальных переменных. Резюмируем:"
   ]
  },
  {
   "cell_type": "markdown",
   "id": "d09d18ac-7823-40c4-a024-8527bf8aae36",
   "metadata": {},
   "source": [
    "1. Если все признаки должны стать количественными, подходит техника OHE;\n",
    "2. Когда все признаки категориальные, и их нужно преобразовать в числа — Ordinal Encoding."
   ]
  },
  {
   "cell_type": "markdown",
   "id": "c07a54d8-bbc8-4a07-9b60-8be91fb7ca27",
   "metadata": {},
   "source": [
    "Почему `Ordinal Encoding` не подходит для логистической регрессии? Она всё норовит посчитать по формуле. Если речь идёт о признаке Age, то это разумно, а вот с Gender есть трудности. Например, сложив значения «1» и «0» («женщина» и «мужчина») и разделив на «2», «средний пол» не получить."
   ]
  },
  {
   "cell_type": "markdown",
   "id": "bc44f241-9da2-4292-a236-b1d0bb6dd681",
   "metadata": {},
   "source": [
    "<img src=\"./pict/12.png\"  \n",
    "  width=\"900\"\n",
    "/>"
   ]
  },
  {
   "cell_type": "markdown",
   "id": "6cf8b074-2f9b-40ea-8d77-cab9d7a70586",
   "metadata": {},
   "source": [
    "# Масштабирование признаков"
   ]
  },
  {
   "cell_type": "markdown",
   "id": "96d20927-36a5-4f12-aba8-06294f63a363",
   "metadata": {},
   "source": [
    "`Диспе́рсия случа́йной величины́ — мера разброса значений случайной величины относительно её математического ожидания`\n",
    "\n",
    "`Квадратный корень из дисперсии, называется среднеквадратическим отклонением, стандартным отклонением или стандартным разбросом.`"
   ]
  },
  {
   "cell_type": "markdown",
   "id": "e1ffdf5b-b964-4ba4-9858-c2155aa1d34a",
   "metadata": {},
   "source": [
    "В данных есть столбцы: Age и Commission. \n",
    "\n",
    "Допустим, возможен возраст от 0 до 100 лет, а страховая комиссия — от 100 долларов до 1000. \n",
    "\n",
    "Значения и их разбросы в столбце Commission больше, поэтому алгоритм автоматически решит, что этот признак важнее возраста. А это не так: все признаки значимы."
   ]
  },
  {
   "cell_type": "markdown",
   "id": "55b71854-d5a6-4e68-a927-a1c3517d038a",
   "metadata": {},
   "source": [
    "Один из методов масштабирования — `стандартизация данных`. "
   ]
  },
  {
   "cell_type": "markdown",
   "id": "0579a88d-0f18-40e3-bb6d-777e38d9d30d",
   "metadata": {},
   "source": [
    "Предположим, что все признаки распределены нормально, `среднее` (M) и `дисперсия` (D) определяются по выборке. Значения признака преобразуются по формуле:"
   ]
  },
  {
   "cell_type": "markdown",
   "id": "c9b0c1ee-c1fa-4590-9749-fbe9455f541f",
   "metadata": {},
   "source": [
    "<img src=\"./pict/13.png\"  \n",
    "  width=\"600\"\n",
    "/>"
   ]
  },
  {
   "cell_type": "markdown",
   "id": "b1fb8343-bbf5-4735-a948-afbb5b941d44",
   "metadata": {},
   "source": [
    "У нового признака устанавливается среднее, равное 0, и дисперсия, равная 1."
   ]
  },
  {
   "cell_type": "markdown",
   "id": "de742e4d-75f5-4777-a9c0-16baf3df9046",
   "metadata": {},
   "source": [
    "В `sklearn` есть отдельная структура для стандартизации данных — `StandardScaler`. Он находится в модуле `sklearn.preprocessing`. \n",
    "Импортируем `StandardScaler` из библиотеки:"
   ]
  },
  {
   "cell_type": "raw",
   "id": "10c3c992-9748-43a6-b54c-cd600a5eb3d5",
   "metadata": {},
   "source": [
    "from sklearn.preprocessing import StandardScaler "
   ]
  },
  {
   "cell_type": "markdown",
   "id": "2369457f-a268-4463-9ab0-c6a0493d528c",
   "metadata": {},
   "source": [
    "Создадим объект этой структуры и настроим его на обучающих данных. Настройка — это вычисление среднего и дисперсии:"
   ]
  },
  {
   "cell_type": "raw",
   "id": "528da5a4-22a6-4828-8afa-3ba5e39ac1f2",
   "metadata": {},
   "source": [
    "scaler = StandardScaler()\n",
    "scaler.fit(features_train) "
   ]
  },
  {
   "cell_type": "markdown",
   "id": "f4d0ffe5-f6fa-4163-b4b0-da7b5a02871b",
   "metadata": {},
   "source": [
    "Преобразуем обучающую и валидационную выборки функцией transform(). Изменённые наборы сохраним в переменных: features_train_scaled и features_valid_scaled:"
   ]
  },
  {
   "cell_type": "raw",
   "id": "77cc5a82-7f97-4a85-92a7-7cf50a6ed568",
   "metadata": {},
   "source": [
    "features_train_scaled = scaler.transform(features_train)\n",
    "features_valid_scaled = scaler.transform(features_valid) "
   ]
  },
  {
   "cell_type": "markdown",
   "id": "b4524b7c-d23e-41cc-b3e1-db6ad5ee22f8",
   "metadata": {},
   "source": [
    "ри записи изменённых признаков в исходный датафрейм код может вызывать предупреждение `SettingWithCopy`. Причина в особенности поведения `sklearn` и `pandas`. \n",
    "\n",
    "Чтобы предупреждение не появлялось, в код добавляют строчку:\n",
    "`pd.options.mode.chained_assignment = None`"
   ]
  },
  {
   "cell_type": "markdown",
   "id": "002112e4-05a1-458e-a887-4d53eac89f0f",
   "metadata": {},
   "source": [
    "<div class=\"alert alert-danger\">\n",
    "ВАЖНО! Масштабирование признаков производить только после <b>train_test_split</b>\n",
    "</div>"
   ]
  },
  {
   "cell_type": "markdown",
   "id": "aa1377fd-20c4-4857-a00c-bdab655101f2",
   "metadata": {},
   "source": [
    "# Шпаргалка"
   ]
  },
  {
   "cell_type": "code",
   "execution_count": null,
   "id": "bfa2b9e8-8b2b-49de-9866-487f50fc18ae",
   "metadata": {},
   "outputs": [],
   "source": [
    "# One-hot-encoding: получение дамми-признаков\n",
    "pd.get_dummies(df['column'])\n",
    "pd.get_dummies(df['column'], drop_first=True)\n",
    "# drop_first = True - удаление первого столбца (избегая дамми-ловушки)"
   ]
  },
  {
   "cell_type": "code",
   "execution_count": null,
   "id": "02cac072-e1f6-4033-894e-6a30bf9e5075",
   "metadata": {},
   "outputs": [],
   "source": [
    "# Ordinal Encoding\n",
    "\n",
    "from sklearn.preprocessing import OrdinalEncoder\n",
    "encoder = OrdinalEncoder()\n",
    "encoder.fit(data)\n",
    "data_ordinal = encoder.transform(data)\n",
    "\n",
    "# добавление названий столбцов\n",
    "data_ordinal = pd.DataFrame(encoder.transform(data), columns=data.columns)\n",
    "\n",
    "# автоматическое обучение и преобразование\n",
    "from sklearn.preprocessing import OrdinalEncoder\n",
    "encoder = OrdinalEncoder()\n",
    "data_ordinal = pd.DataFrame(encoder.fit_transform(data), columns=data.columns)"
   ]
  },
  {
   "cell_type": "code",
   "execution_count": null,
   "id": "cbb02066-3ff3-4d13-bad3-f5977cf731ea",
   "metadata": {},
   "outputs": [],
   "source": [
    "# Стандартизация\n",
    "from sklearn.preprocessing import StandardScaler\n",
    "scaler = StandardScaler()\n",
    "scaler.fit(df)\n",
    "df_scaled = scaler.transform(df)"
   ]
  },
  {
   "cell_type": "markdown",
   "id": "b06a834c-8427-405b-bf05-383a62ab074e",
   "metadata": {},
   "source": [
    "# Accuracy метрика"
   ]
  },
  {
   "cell_type": "markdown",
   "id": "20c4a71c-f9e0-4984-b42c-14bb1985b11c",
   "metadata": {},
   "source": [
    "Предположим мы работаем в патентном бюро. К нам принесли патент что изобрели неинвазивный способ определения лейкоза у младенцев. Он предсказывает предрасположенностьноворожденного к равитию лейкоза с точностью `98%`. \n",
    "\n",
    "Как мы сейчас увидим этот тест действительно точен на `98%`! И тем не менее он такой же дурацкий, являясь хорошей иллюстрацией почему Accurasy не используют для оценки точности бинарной классификации."
   ]
  },
  {
   "cell_type": "markdown",
   "id": "2ada3b4d-50ee-4b03-8291-6160744859e3",
   "metadata": {},
   "source": [
    "- Патент предпологает что модель предсказывает лейкоз, если и только пациента зовут Григорий. "
   ]
  },
  {
   "cell_type": "markdown",
   "id": "b7c39f10-640d-4785-9dca-6c554bb7c214",
   "metadata": {},
   "source": [
    "Давайте посмотрим, как мой тест на лейкоз вписывается в эти рамки. В 2022 году в Украине приблизительно 3% младенцам из 1000 дают имя Григорий,а распространенность лейкоза на протяжении жизни составляет 1.4%, или 14 человек на каждую 1000"
   ]
  },
  {
   "cell_type": "markdown",
   "id": "0219ca50-c4e3-4453-9ae1-17e4b2322bb5",
   "metadata": {},
   "source": [
    "Если мы считаем, что эти два фактора являются взаимно независимыми и применим мой тест \"Григорий означает лейкоз\" к 1млн человек, то можно ожидать, что мы увидим матрицу несоотвествий, которая выглядит так:"
   ]
  },
  {
   "cell_type": "markdown",
   "id": "a0d21c45-2d8d-4ae6-8abc-e566e037d229",
   "metadata": {},
   "source": [
    "<div class=\"scrollable_content\">\n",
    "    <table cellpadding=\"0\" cellspacing=\"0\" style=\"width: 500px; text-align: center;\">\n",
    "        <thead ><tr>\n",
    "            <th scope=\"col\" style=\"text-align: center;\"></th>\n",
    "            <th scope=\"col\" style=\"text-align: center;\">Лейкоз</th>\n",
    "            <th scope=\"col\" style=\"text-align: center;\">Не лейкоз</th>\n",
    "            <th scope=\"col\" style=\"text-align: center;\">Всего</th>\n",
    "               </tr>\n",
    "        </thead>\n",
    "        <tbody>\n",
    "        <tr>\n",
    "            <td style=\"text-align: center;\">Григорий</td>\n",
    "            <td style=\"text-align: center;\">42</td>\n",
    "            <td style=\"text-align: center;\">4 958</td>\n",
    "            <td style=\"text-align: center;\">5 000</td>\n",
    "        </tr>\n",
    "        <tr>\n",
    "            <td style=\"text-align: center;\">Не Григорий</td>\n",
    "            <td style=\"text-align: center;\">13 958</td>\n",
    "            <td style=\"text-align: center;\">981 042</td>\n",
    "            <td style=\"text-align: center;\">995 000</td>\n",
    "        </tr>\n",
    "        <tr>\n",
    "            <td style=\"text-align: center;\">Всего</td>\n",
    "            <td style=\"text-align: center;\">14 000</td>\n",
    "            <td style=\"text-align: center;\">986 000</td>\n",
    "            <td style=\"text-align: center;\">1 000 000</td>\n",
    "        </tr>\n",
    "        </tbody></table><div></div></div>"
   ]
  },
  {
   "cell_type": "code",
   "execution_count": 44,
   "id": "57dfab46-57e3-4070-a282-4a1c084c5f4e",
   "metadata": {},
   "outputs": [
    {
     "name": "stdout",
     "output_type": "stream",
     "text": [
      "result 98.11%\n"
     ]
    }
   ],
   "source": [
    "correct  = 42 + 981042\n",
    "total = 42+ 4930 + 13958 + 981042\n",
    "\n",
    "result = correct/total\n",
    "    \n",
    "print('result {:.2%}'.format(result))"
   ]
  },
  {
   "cell_type": "markdown",
   "id": "a29f2e46-9f1c-4d0a-9944-b1223e0f84d1",
   "metadata": {},
   "source": [
    "# Баланс и дисбаланс классов"
   ]
  },
  {
   "cell_type": "markdown",
   "id": "cf71a7e2-5d04-4bb5-abbb-c1e1132b03de",
   "metadata": {},
   "source": [
    "Долю правильных ответов, близкую к 100%, мы получили. А вот понимания, что происходит - нет. В нашей задаче наблюдается сильный class imbalance.\n",
    "\n",
    "Классы несбалансированны, когда их соотношение далеко от 1:1. class balance наблюдается, если их количество примерно равно."
   ]
  },
  {
   "cell_type": "markdown",
   "id": "f0a4d5a3-63f1-4aaa-84ba-71dbf9b55dc7",
   "metadata": {},
   "source": [
    "<img src=\"./pict/14.jpeg\"  \n",
    "  width=\"400\"\n",
    "/>"
   ]
  },
  {
   "cell_type": "markdown",
   "id": "f6df3aa1-d777-478d-a14c-cfb755e8c149",
   "metadata": {},
   "source": [
    "`Accuracy` не подходит. Нужна новая метрика! Но прежде — несколько важных определений.\n",
    "\n",
    "Вы уже знаете, что класс с меткой «1» называется положительным, с меткой «0» — отрицательным.\n",
    "\n",
    "Если сравнить эти ответы с предсказаниями, получается такое деление:\n",
    "- True Positive (TP) и True Negative (TN)\n",
    "- False Positive (FP) и False Negative  (FN).\n",
    "\n",
    "Резюмируем. Характеристики «положительный» и «отрицательный» относятся к `предсказанию`, а «истинный» и «ложный» — к его `правильности`."
   ]
  },
  {
   "cell_type": "markdown",
   "id": "f26ca3c8-e320-44fc-b3c7-45e1e4a14be1",
   "metadata": {},
   "source": [
    "<b>Истинно положительные ответы</b> Что значит истинно положительный ответ (TP)? Модель пометила объект единицей, и его настоящее значение тоже — 1."
   ]
  },
  {
   "cell_type": "markdown",
   "id": "00c6bb13-f227-404a-98fa-75f4b4e2b182",
   "metadata": {},
   "source": [
    "<b>Истинно отрицательные ответы</b> Если предсказанное и фактическое значение класса отрицательные, ответ истинно отрицательный."
   ]
  },
  {
   "cell_type": "markdown",
   "id": "83c4b2ca-fad0-4fac-81b0-f1e21fc2734b",
   "metadata": {},
   "source": [
    "<b>Ложноположительные ответы</b> Ошибка первого рода — это ложноположительные ответы (FP). Они возникают, когда модель предсказала «1», а вот действительное значение класса — «0»."
   ]
  },
  {
   "cell_type": "markdown",
   "id": "3769caea-8233-408b-842d-89c32d936095",
   "metadata": {},
   "source": [
    "<b>Истинно положительные ответы</b> Ошибка второго рода — ложноотрицательные ответы (FN). Ложноотрицательные ответы появляются, когда модель предсказала «0», а действительное значение класса — «1»."
   ]
  },
  {
   "cell_type": "markdown",
   "id": "ab9cbbb6-af13-4d57-a4a2-ae7c7741cc2a",
   "metadata": {},
   "source": [
    "## Матрица ошибок"
   ]
  },
  {
   "cell_type": "markdown",
   "id": "418f4d5e-7800-441b-8989-3409b7f4ad1b",
   "metadata": {},
   "source": [
    "Что получаем:\n",
    "\n",
    "По главной диагонали (от верхнего левого угла) выстроены правильные прогнозы:\n",
    "- TN в левом верхнем углу;\n",
    "- TP в правом нижнем углу.\n",
    "\n",
    "Вне главной диагонали — ошибочные варианты:\n",
    "- FP в правом верхнем углу;\n",
    "- FN в левом нижнем углу."
   ]
  },
  {
   "cell_type": "markdown",
   "id": "db568f6e-b12b-45a0-980a-1649e00c6021",
   "metadata": {},
   "source": [
    "<img src=\"./pict/15.png\"  \n",
    "  width=\"500\"\n",
    "/>"
   ]
  },
  {
   "cell_type": "markdown",
   "id": "62763e8e-7328-464b-8da7-44acc227f509",
   "metadata": {},
   "source": [
    "Матрица неточностей находится в знакомом модуле `sklearn.metrics`. Функция `confusion_matrix()` принимает на вход верные ответы и предсказания, а возвращает матрицу ошибок."
   ]
  },
  {
   "cell_type": "markdown",
   "id": "a2b2abd0-3e2d-43af-b80b-25537182b4fc",
   "metadata": {},
   "source": [
    "# Полнота"
   ]
  },
  {
   "cell_type": "markdown",
   "id": "ab6dacd9-dd3e-472c-96a5-c56536c92295",
   "metadata": {},
   "source": [
    "Матрица ошибок поможет построить новые метрики. Начнём с recall.\n",
    "\n",
    "Полнота выявляет, какую долю положительных среди всех ответов выделила модель. Обычно они на вес золота, и важно понимать, как хорошо модель их находит. \n",
    "\n",
    "Recall рассчитывается по такой формуле:"
   ]
  },
  {
   "cell_type": "markdown",
   "id": "512ae516-6c03-4f2c-a017-22e6c2777e97",
   "metadata": {},
   "source": [
    "<img src=\"./pict/16.png\"  \n",
    "  width=\"700\"\n",
    "/>"
   ]
  },
  {
   "cell_type": "markdown",
   "id": "d6fe2d99-c827-4e7c-bd28-da6f0b3f628c",
   "metadata": {},
   "source": [
    "Полнота — это доля TP-ответов среди всех, у которых истинная метка 1. Хорошо, когда значение recall близко к единице: модель хорошо ищет положительные объекты. Если ближе к нулю — модель надо перепроверить и починить."
   ]
  },
  {
   "cell_type": "markdown",
   "id": "ce50f612-71d2-4ab8-b8e8-955ee9e9d4a6",
   "metadata": {},
   "source": [
    "# Точность"
   ]
  },
  {
   "cell_type": "markdown",
   "id": "62a315d9-f65f-41df-a535-27ad4b367d63",
   "metadata": {},
   "source": [
    "Точность определяет, как много отрицательных ответов нашла модель, пока искала положительные. Чем больше отрицательных, тем ниже точность.\n",
    "\n",
    "Precision рассчитывается по такой формуле:"
   ]
  },
  {
   "cell_type": "markdown",
   "id": "14a60e84-7687-4e1d-a64f-8b426a084320",
   "metadata": {},
   "source": [
    "<img src=\"./pict/17.png\"  \n",
    "  width=\"700\"\n",
    "/>"
   ]
  },
  {
   "cell_type": "markdown",
   "id": "fd467184-a0b0-455e-9ad1-23f3ff13317f",
   "metadata": {},
   "source": [
    "Напомним, TP — это истинно положительные ответы. FP — отмеченные моделью положительные ответы. Нам нужна точность, близкая к единице."
   ]
  },
  {
   "cell_type": "markdown",
   "id": "fb25916a-ec85-471e-b2dc-78a385f92b85",
   "metadata": {},
   "source": [
    "# Точность против полноты"
   ]
  },
  {
   "cell_type": "markdown",
   "id": "b6474c48-0e44-47b1-96d4-df15576e2d78",
   "metadata": {},
   "source": [
    "Когда модель плохо предсказывает положительные классы, то мала как точность, так и полнота. Можно ли повысить их значения?"
   ]
  },
  {
   "cell_type": "markdown",
   "id": "98a651e9-7758-4ecf-b39f-69ae787e6aec",
   "metadata": {},
   "source": [
    "<img src=\"./pict/17.jpg\"  \n",
    "  width=\"600\"\n",
    "/>"
   ]
  },
  {
   "cell_type": "raw",
   "id": "3970f9e9-c4dd-40c8-872f-015a53220b8d",
   "metadata": {},
   "source": [
    "Если в задаче ключевая метрика — полнота, как сделать её максимально высокой?"
   ]
  },
  {
   "cell_type": "code",
   "execution_count": 6,
   "id": "a023b5f2-2fe3-4485-8dc3-343ca69b405a",
   "metadata": {},
   "outputs": [],
   "source": [
    "# Example\n",
    "\n",
    "total_row = 1000\n",
    "\n",
    "# Matrix\n",
    "#  230  170 \n",
    "#  200  400\n",
    "\n",
    "tn = 230\n",
    "fp = 170\n",
    "fn = 200\n",
    "tp = 400"
   ]
  },
  {
   "cell_type": "code",
   "execution_count": 7,
   "id": "0830337a-9576-4e62-899e-9a139c1141a9",
   "metadata": {},
   "outputs": [
    {
     "data": {
      "text/plain": [
       "0.63"
      ]
     },
     "execution_count": 7,
     "metadata": {},
     "output_type": "execute_result"
    }
   ],
   "source": [
    "accuracy = (tn + tp) / total_row\n",
    "accuracy"
   ]
  },
  {
   "cell_type": "code",
   "execution_count": 8,
   "id": "9449652d-a29b-471b-9f81-510273d6344f",
   "metadata": {},
   "outputs": [
    {
     "data": {
      "text/plain": [
       "0.6666666666666666"
      ]
     },
     "execution_count": 8,
     "metadata": {},
     "output_type": "execute_result"
    }
   ],
   "source": [
    "recall = tp / (tp + fn)\n",
    "recall"
   ]
  },
  {
   "cell_type": "code",
   "execution_count": 9,
   "id": "e03766cc-8746-469f-9e92-a51dae27d66f",
   "metadata": {},
   "outputs": [
    {
     "data": {
      "text/plain": [
       "0.7017543859649122"
      ]
     },
     "execution_count": 9,
     "metadata": {},
     "output_type": "execute_result"
    }
   ],
   "source": [
    "precision = tp / (tp + fp)\n",
    "precision"
   ]
  },
  {
   "cell_type": "code",
   "execution_count": 10,
   "id": "6a6e796b-362e-45da-9952-3637b192b6bb",
   "metadata": {
    "tags": []
   },
   "outputs": [
    {
     "data": {
      "text/plain": [
       "1.0"
      ]
     },
     "execution_count": 10,
     "metadata": {},
     "output_type": "execute_result"
    }
   ],
   "source": [
    "tn = 500\n",
    "fp = 0\n",
    "fn = 0\n",
    "tp = 500\n",
    "\n",
    "recall = tp / (tp + fn)\n",
    "recall"
   ]
  },
  {
   "cell_type": "raw",
   "id": "50656b6e-95a6-4e58-bd92-5ef6291dada2",
   "metadata": {
    "jupyter": {
     "source_hidden": true
    },
    "tags": []
   },
   "source": [
    "Обучите модель, которая отвечает «1» на все объекты. Полнота будет равна 1.0."
   ]
  },
  {
   "cell_type": "markdown",
   "id": "e7e0da1f-e3d1-4583-8e35-11d5e313468e",
   "metadata": {},
   "source": [
    "Полноту мы разобрали, а как же достичь высокой точности? \n",
    "\n",
    "В формуле учитываются только ошибки для положительного класса, а не отрицательного. Нужно обучить модель, которая, наоборот, отвечает «1» как можно реже. \n",
    "\n",
    "`Но отвечать на всё «0» не стоит, так метрику не «взломать»: в формуле ноль будет делиться на ноль.`"
   ]
  },
  {
   "cell_type": "markdown",
   "id": "f29c72ff-2305-4ef7-9946-99437a753cb1",
   "metadata": {},
   "source": [
    "# F1-мера"
   ]
  },
  {
   "cell_type": "markdown",
   "id": "3b676f86-c85b-4f50-9746-ed2ca8f3e4b8",
   "metadata": {},
   "source": [
    "По отдельности полнота и точность не слишком информативны. Нужно одновременно повышать показатели обеих. Или обратиться к новой метрике, которая их объединит.\n",
    "\n",
    "Полнота и точность оценивают качество прогноза положительного класса с разных позиций. Recall описывает, как хорошо модель разобралась в особенностях этого класса и распознала его. Precision выявляет, не переусердствует ли модель, присваивая положительные метки. \n",
    "\n",
    "Важны обе метрики. Контролировать их параллельно помогают агрегирующие метрики, одна из которых — F1-score. Это среднее гармоническое полноты и точности. Единица в F1 означает, что соотношение полноты и точности равно 1:1. "
   ]
  },
  {
   "cell_type": "markdown",
   "id": "68d400e1-3b26-49bc-a7cd-4d81fc0bebce",
   "metadata": {},
   "source": [
    "<img src=\"./pict/18.png\"  \n",
    "  width=\"700\"\n",
    "/>"
   ]
  },
  {
   "cell_type": "markdown",
   "id": "7baf0de9-8255-4ecd-a596-b859b045541a",
   "metadata": {},
   "source": [
    "<b>Важно:</b> когда полнота или точность близки к нулю, то к 0 приближается и само среднее гармоническое.\n",
    "\n",
    "На графике отображены значения F1-меры при разных значениях точности и полноты. Синий цвет соответствует нулю, а жёлтый — единице."
   ]
  },
  {
   "cell_type": "markdown",
   "id": "d4e66e0f-b841-4d37-b333-e885e4cb8c86",
   "metadata": {},
   "source": [
    "<img src=\"./pict/19.png\"  \n",
    "  width=\"500\"\n",
    "/>"
   ]
  },
  {
   "cell_type": "markdown",
   "id": "f502621b-c5ad-4e93-a8e7-b5d3ad127add",
   "metadata": {},
   "source": [
    "# Несбалансированная классификация"
   ]
  },
  {
   "cell_type": "markdown",
   "id": "25afe2db-b521-4c67-a66a-f80d1d87db85",
   "metadata": {},
   "source": [
    "Алгоритмы машинного обучения считают все объекты обучающей выборки равнозначными по умолчанию. Если важно указать, что какие-то объекты важнее, их классу присваивается вес (class_weight).\n",
    "\n",
    "В алгоритме логистической регрессии в библиотеке `sklearn` есть аргумент `class_weight`. По умолчанию он равен `None`, т. е. классы равнозначны:"
   ]
  },
  {
   "cell_type": "raw",
   "id": "35376dfe-bd88-46c7-ac13-029aab44fc0b",
   "metadata": {},
   "source": [
    "вес класса «0» = 1.0\n",
    "\n",
    "вес класса «1» = 1.0"
   ]
  },
  {
   "cell_type": "markdown",
   "id": "89705e6e-9006-4e4c-be71-610ab213e524",
   "metadata": {},
   "source": [
    "Если указать `class_weight='balanced'`, алгоритм посчитает, во сколько раз класс «0» встречается чаще класса «1». \n",
    "\n",
    "Обозначим это число N (неизвестное количество раз). Новые веса классов выглядят так:"
   ]
  },
  {
   "cell_type": "raw",
   "id": "91b183bc-8931-4a84-82e8-67d13563d089",
   "metadata": {},
   "source": [
    "вес класса «0» = 1.0\n",
    "\n",
    "вес класса «1» = N"
   ]
  },
  {
   "cell_type": "markdown",
   "id": "b8127784-4eb3-4fa7-8f56-3909b5b9b85c",
   "metadata": {},
   "source": [
    "Бóльший вес будет у редкого класса.\n",
    "\n",
    "Аргумент `class_weight` также есть у решающего дерева и случайного леса."
   ]
  },
  {
   "cell_type": "markdown",
   "id": "ab9b679b-032e-4d26-b2de-483eca773cd8",
   "metadata": {},
   "source": [
    "## Увеличение выборки"
   ]
  },
  {
   "cell_type": "markdown",
   "id": "3a72fa5c-3daa-4d80-a944-fc3a370530df",
   "metadata": {},
   "source": [
    "Как сделать объекты редкого класса не такими редкими в данных?\n",
    "\n",
    "Теперь в тесте за решение любой задачи вы получаете 1 балл. Самые важные задачи повторяются по несколько раз, чтобы их легче запомнить. \n",
    "\n",
    "Когда обучают модели, такая техника называется `upsampling`.\n",
    "\n",
    "Преобразование проходит в несколько этапов:\n",
    "- Разделить обучающую выборку на отрицательные и положительные объекты;\n",
    "- Скопировать несколько раз положительные объекты;\n",
    "- С учётом полученных данных создать новую обучающую выборку;\n",
    "\n",
    "Перемешать данные: идущие друг за другом одинаковые вопросы не помогут обучению."
   ]
  },
  {
   "cell_type": "markdown",
   "id": "1a351f87-f43b-43af-b006-75e93c39891e",
   "metadata": {},
   "source": [
    "Скопировать объекты несколько раз поможет синтаксис умножения списков в Python. Чтобы повторить элементы списка, он умножается на число (нужное количество раз):"
   ]
  },
  {
   "cell_type": "code",
   "execution_count": 62,
   "id": "fd5ca144-fa1c-4aa1-b26a-9c4beb0a26dd",
   "metadata": {},
   "outputs": [
    {
     "name": "stdout",
     "output_type": "stream",
     "text": [
      "[0, 1, 0]\n",
      "[0, 1, 0, 0, 1, 0, 0, 1, 0]\n"
     ]
    }
   ],
   "source": [
    "answers = [0, 1, 0]\n",
    "print(answers)\n",
    "\n",
    "answers_x3 = answers * 3\n",
    "print(answers_x3) "
   ]
  },
  {
   "cell_type": "markdown",
   "id": "66277e8f-245e-472e-b08b-3b3b8901e8c1",
   "metadata": {},
   "source": [
    "## Уменьшение выборки"
   ]
  },
  {
   "cell_type": "markdown",
   "id": "fa73d8d3-f3d9-48bd-8942-efbc7e2ade4c",
   "metadata": {},
   "source": [
    "Как сделать объекты частого класса не такими частыми?\n",
    "\n",
    "Вместо повторения важных вопросов убрать часть неважных. Это можно сделать техникой `downsampling`"
   ]
  },
  {
   "cell_type": "markdown",
   "id": "d0056be8-7a90-4e63-a82c-98f0d6f8d9ad",
   "metadata": {},
   "source": [
    "Преобразование проходит в несколько этапов:\n",
    "    \n",
    "- Разделить обучающую выборку на отрицательные и положительные объекты;\n",
    "- Случайным образом отбросить часть из отрицательных объектов;\n",
    "- С учётом полученных данных создать новую обучающую выборку;\n",
    "\n",
    "Перемешать данные. Положительные не должны идти следом за отрицательными: алгоритмам будет сложнее обучаться."
   ]
  },
  {
   "cell_type": "raw",
   "id": "6a76888e-cd2a-463d-8c26-fe5900793d5e",
   "metadata": {},
   "source": [
    "features_sample = features_train.sample(frac=0.1, random_state=12345)"
   ]
  },
  {
   "cell_type": "markdown",
   "id": "32975e90-1a60-465b-98bb-f01a72cec1fa",
   "metadata": {},
   "source": [
    "## Порог классификации"
   ]
  },
  {
   "cell_type": "markdown",
   "id": "2793f020-b2d2-4e05-95c3-e36c00936d1f",
   "metadata": {},
   "source": [
    "Как лучше обучать логистическую регрессию? Посмотрим, что у неё внутри.\n",
    "\n",
    "Чтобы определить ответ, логистическая регрессия вычисляет, к какому классу близок объект, затем сравнивает результат с нулём. Для удобства близость к классам переведём в вероятность классов: модель пытается оценить, насколько вероятен тот или иной класс. \n",
    "\n",
    "У нас всего два класса (ноль и единица). Нам достаточно вероятности класса «1». Число будет от нуля до единицы: если больше 0.5 —  объект положительный, меньше — отрицательный.\n",
    "\n",
    "Граница, где заканчивается отрицательный класс и начинается положительный, называется порогом (англ. threshold). По умолчанию он равен 0.5, но что если его поменять?"
   ]
  },
  {
   "cell_type": "markdown",
   "id": "508f6a04-1a21-446e-9ae7-febeaa252b36",
   "metadata": {},
   "source": [
    "Как поменяется точность и полнота, если уменьшить порог c 0.5 до 0.2?\n",
    "\n",
    "`Точность уменьшится, а полнота увеличится` почему?"
   ]
  },
  {
   "cell_type": "markdown",
   "id": "5786c237-09f2-4a92-80cc-68b9f91c8d2d",
   "metadata": {},
   "source": [
    "## Изменение порога"
   ]
  },
  {
   "cell_type": "markdown",
   "id": "d20bfb59-98c4-428b-ba9f-b313cf5ea61a",
   "metadata": {},
   "source": [
    "В библиотеке `sklearn` вероятность классов вычисляет функция `predict_proba()` . На вход она получает признаки объектов, а возвращает вероятности:"
   ]
  },
  {
   "cell_type": "raw",
   "id": "8fb7647b-3b97-46c5-b023-8d9cea4f2a2c",
   "metadata": {},
   "source": [
    "probabilities = model.predict_proba(features) "
   ]
  },
  {
   "cell_type": "markdown",
   "id": "b8adfd95-7903-4640-b05c-eaa3dc41173b",
   "metadata": {},
   "source": [
    "# PR-кривая"
   ]
  },
  {
   "cell_type": "markdown",
   "id": "78e172f7-26b7-4636-a858-4e1882986258",
   "metadata": {},
   "source": [
    "Изобразим на графике, как выглядят значения метрик при изменении порога.\n",
    "\n",
    "На графике по вертикали наносится значение точности, по горизонтали — полноты. \n",
    "\n",
    "Кривая, показывающая их значения, называется PR-кривой. Чем выше кривая, тем лучше модель."
   ]
  },
  {
   "cell_type": "markdown",
   "id": "a1012c51-b918-432d-a2ce-2fac83283d0b",
   "metadata": {},
   "source": [
    "<img src=\"./pict/20.png\"  \n",
    "  width=\"500\"\n",
    "/>"
   ]
  },
  {
   "cell_type": "markdown",
   "id": "7e66467c-e72c-4d8c-827b-199e64f8fdb8",
   "metadata": {},
   "source": [
    "# TPR и FPR"
   ]
  },
  {
   "cell_type": "markdown",
   "id": "97d93e68-766f-4fc2-939a-2c7f4dc577dc",
   "metadata": {},
   "source": [
    "Когда положительных объектов нет, точность не вычислить. Выберем другие характеристики, в которых нет деления на ноль.\n",
    "\n",
    "Прежде чем перейти к новой кривой, дадим несколько важных определений. \n",
    "\n",
    "Как измерить, насколько правильно классификатор находит объекты? Долей верно предсказанных объектов к общему числу объектов класса. Это отношение называется \n",
    "\n",
    "`TPR` (True Positive Rate) или recall. Формула выглядит так, где `P=TP+FN`."
   ]
  },
  {
   "cell_type": "markdown",
   "id": "4960c85f-2cc0-4dde-9eb6-22a94d4102ee",
   "metadata": {},
   "source": [
    "<img src=\"./pict/21.png\"  \n",
    "  width=\"700\"\n",
    "/>"
   ]
  },
  {
   "cell_type": "markdown",
   "id": "c4c0f880-e264-4007-8f7b-3e5d108d19c1",
   "metadata": {},
   "source": [
    "Доля ложных срабатываний к общему числу объектов за пределами класса (False Positive Rate, `FPR`) вычисляется аналогично. \n",
    "\n",
    "Это отношение `FP-ответов` (False Positives — отрицательные, классифицированные как положительные) к сумме отрицательных ответов: \n",
    "\n",
    "`FP` и `TN` (True Negatives — верно классифицированные отрицательные ответы). Ниже дана формула, где `N=FP+TN`:"
   ]
  },
  {
   "cell_type": "markdown",
   "id": "beae30ef-4d06-4721-a04d-b754e38c33c1",
   "metadata": {},
   "source": [
    "<img src=\"./pict/22.png\"  \n",
    "  width=\"700\"\n",
    "/>"
   ]
  },
  {
   "cell_type": "markdown",
   "id": "9bc52f95-a82d-4075-8d12-7bdaf26111d0",
   "metadata": {},
   "source": [
    "Деления на ноль не будет: в знаменателях значения, которые постоянны и не зависят от изменения модели."
   ]
  },
  {
   "cell_type": "markdown",
   "id": "ea947198-730d-47c1-b63c-769bc4fc0ad5",
   "metadata": {},
   "source": [
    "# ROC-кривая"
   ]
  },
  {
   "cell_type": "markdown",
   "id": "51db3696-a26f-40a1-8fbc-b72d4949ba79",
   "metadata": {},
   "source": [
    "Мы стали свидетелями нового противостояния — `TPR` против `FPR`. Изобразим его на графике.\n",
    "\n",
    "По горизонтали нанесём долю ложноположительных ответов (`FPR`), а по вертикали — долю истинно положительных ответов (`TPR`). Переберём значения порога логистической регрессии и проведём кривую. \n",
    "\n",
    "Она называется `ROC-кривая`, или `кривая ошибок` (receiver operating characteristic; термин пришёл из теории обработки сигналов).\n",
    "\n",
    "Для модели, которая всегда отвечает случайно, `ROC-кривая` выглядит как прямая, идущая из левого нижнего угла в верхний правый. Чем график выше, тем больше значение `TPR` и лучше качество модели."
   ]
  },
  {
   "cell_type": "markdown",
   "id": "35402c2a-da5d-4e8f-b71f-ccb71680047b",
   "metadata": {},
   "source": [
    "<img src=\"./pict/23.png\"  \n",
    "  width=\"500\"\n",
    "/>"
   ]
  },
  {
   "cell_type": "markdown",
   "id": "31be2504-cab5-49fd-b4c0-28bf0c649a10",
   "metadata": {},
   "source": [
    "Чтобы выявить, как сильно наша модель отличается от случайной, посчитаем площадь под ROC-кривой — `AUC-ROC` (Area Under Curve ROC). Это новая метрика качества, которая изменяется от 0 до 1. `AUC-ROC` случайной модели равна 0.5.\n",
    "\n",
    "Построить ROC-кривую поможет функция `roc_curve()` из модуля `sklearn.metrics`:"
   ]
  },
  {
   "cell_type": "raw",
   "id": "10874120-1441-45c3-bdd1-357f39196f1a",
   "metadata": {},
   "source": [
    "from sklearn.metrics import roc_curve "
   ]
  },
  {
   "cell_type": "markdown",
   "id": "d6a2b368-027a-44ab-a192-04acd7f920d2",
   "metadata": {},
   "source": [
    "На вход она принимает значения целевого признака и вероятности положительного класса. Перебирает разные пороги и возвращает три списка: значения `FPR`, значения `TPR` и `рассмотренные пороги`."
   ]
  },
  {
   "cell_type": "raw",
   "id": "0052661f-7f42-447f-b970-89acd61e69f1",
   "metadata": {},
   "source": [
    "fpr, tpr, thresholds = roc_curve(target, probabilities) "
   ]
  },
  {
   "cell_type": "markdown",
   "id": "0eacd007-8847-40a5-b6c3-608714e43941",
   "metadata": {},
   "source": [
    "# MSE/RMSE в задаче регрессии"
   ]
  },
  {
   "cell_type": "markdown",
   "id": "5899190e-04b4-4176-ae19-fda5d55d95fc",
   "metadata": {},
   "source": [
    "Какая метрика лучше подходит для задч регресии? MSE - это средняя квадратичная ошибка. Но как понять что модель считает верно? "
   ]
  },
  {
   "cell_type": "markdown",
   "id": "29838e44-f836-48d9-92a8-43117d40aa7e",
   "metadata": {},
   "source": [
    "<font size=\"5\">  \n",
    "    MSE = sum of squared object errors / number of object\n",
    "</font> "
   ]
  },
  {
   "cell_type": "markdown",
   "id": "3f25ecd0-b8a7-495d-a26d-de5036b30e59",
   "metadata": {},
   "source": [
    "<img src=\"./pict/9.png\"  \n",
    "  width=\"700\" />"
   ]
  },
  {
   "cell_type": "markdown",
   "id": "e91300be-22f2-4bbc-9892-82d83b3c560b",
   "metadata": {},
   "source": [
    "Один из простых способов это посмотреть адекватность модели (сравнить значения с средним) "
   ]
  },
  {
   "cell_type": "markdown",
   "id": "34892590-cf92-4aa3-8fdf-c19f44d1cc3a",
   "metadata": {},
   "source": [
    "<img src=\"./pict/24.png\"  \n",
    "  width=\"700\"\n",
    "/>"
   ]
  },
  {
   "cell_type": "markdown",
   "id": "15f3bcf0-35c2-4dcd-9247-d62c9e84a15d",
   "metadata": {},
   "source": [
    "# Коэффициент детерминации"
   ]
  },
  {
   "cell_type": "markdown",
   "id": "5c75e057-a3d1-4e40-af70-a451d4bd283b",
   "metadata": {},
   "source": [
    "Чтобы не пришлось всё время сравнивать модель со средним, введём новую метрику. Она выражена не в абсолютных значениях, а в относительных.\n",
    "\n",
    "`Коэффициент детерминации`, или `метрика R2` (coefficient of determination; R-squared), вычисляет долю средней квадратичной ошибки модели от MSE среднего, а затем вычитает эту величину из единицы. Увеличение метрики означает прирост качества модели. \n",
    "Формула расчёта R2 выглядит так:"
   ]
  },
  {
   "cell_type": "markdown",
   "id": "969b7378-49a7-4b8a-b3ce-545162a57603",
   "metadata": {},
   "source": [
    "<img src=\"./pict/25.png\"  \n",
    "  width=\"700\"\n",
    "/>"
   ]
  },
  {
   "cell_type": "markdown",
   "id": "e6d9f950-8879-43be-a650-4b1d5672f8f5",
   "metadata": {},
   "source": [
    "- Значение метрики R2 равно единице только в одном случае, если MSE нулевое. Такая модель предсказывает все ответы идеально.\n",
    "- R2 равно нулю: модель работает так же, как и среднее.\n",
    "- Если метрика R2 отрицательна, качество модели очень низкое.\n",
    "- Значения R2 больше единицы быть не может."
   ]
  },
  {
   "cell_type": "markdown",
   "id": "fbe61b78-bdbe-4842-a7f3-ffa497af9e0b",
   "metadata": {},
   "source": [
    "# Среднее абсолютное отклонение"
   ]
  },
  {
   "cell_type": "markdown",
   "id": "7547fd48-fb31-423c-927b-799a1f49c053",
   "metadata": {},
   "source": [
    "Познакомимся с новой метрикой качества — `MAE` (mean absolute error). Она похожа на MSE, но в ней нет возведения в квадрат\n",
    "\n",
    "Запишем новую метрику символами, а не словами."
   ]
  },
  {
   "cell_type": "markdown",
   "id": "63a9cc40-4787-41ba-ad4a-107021efec95",
   "metadata": {},
   "source": [
    "<img src=\"./pict/26.png\"  \n",
    "  width=\"400\"\n",
    "/>"
   ]
  },
  {
   "cell_type": "markdown",
   "id": "b7be3282-7e58-4e84-8b84-e6141f12e00b",
   "metadata": {},
   "source": [
    "1. Значение целевого признака для объекта с порядковым номером `i` в выборке, на которой измеряется качество. Например, тестовой. Буква `y` связана с целевым признаком. Нижний индекс показывает номер объекта."
   ]
  },
  {
   "cell_type": "markdown",
   "id": "d0f73f79-5922-4038-ab7b-0351c5d82e19",
   "metadata": {},
   "source": [
    "<img src=\"./pict/27.png\"  \n",
    "  width=\"400\"\n",
    "/>"
   ]
  },
  {
   "cell_type": "markdown",
   "id": "07e3732b-2563-4238-8fbd-5f1dc8ebe5f2",
   "metadata": {},
   "source": [
    "2. Значение предсказания для объекта с порядковым номером `i`, например, в тестовой выборке. Знак `circumflexus` над `y` говорит, что это предсказание модели, а не правильный ответ."
   ]
  },
  {
   "cell_type": "markdown",
   "id": "b3ec8b02-7100-4d29-969c-b4a3657821db",
   "metadata": {},
   "source": [
    "Отклонение объекта - это разница значения целевого признака и предсказания "
   ]
  },
  {
   "cell_type": "markdown",
   "id": "1110155a-314a-45db-8a06-f06f79e349e2",
   "metadata": {},
   "source": [
    "Чтобы в новой метрике избавиться от разницы между недооценкой и переоценкой, вычисляется `абсолютное отклонение`."
   ]
  },
  {
   "cell_type": "markdown",
   "id": "0217a4c4-3100-4493-b49d-e6a49b3a7a6b",
   "metadata": {},
   "source": [
    "Чтобы собрать отклонения по всей выборке, дополним обозначения:"
   ]
  },
  {
   "cell_type": "markdown",
   "id": "95b3e554-08cd-47a1-8b9c-953319124ef6",
   "metadata": {},
   "source": [
    "<img src=\"./pict/28.png\"  \n",
    "  width=\"400\"\n",
    "/>"
   ]
  },
  {
   "cell_type": "markdown",
   "id": "12c0830c-5d0d-41b0-bdca-d179521c3c3d",
   "metadata": {},
   "source": [
    "3. Количество объектов в выборке."
   ]
  },
  {
   "cell_type": "markdown",
   "id": "1c2431e7-32d8-4511-9d3c-7f3224902170",
   "metadata": {},
   "source": [
    "<img src=\"./pict/29.png\"  \n",
    "  width=\"400\"\n",
    "/>"
   ]
  },
  {
   "cell_type": "markdown",
   "id": "353d621d-04e2-4752-ac58-ace9c46630b6",
   "metadata": {},
   "source": [
    "4. Суммирование по всем объектам выборки (i меняется от 1 до N)."
   ]
  },
  {
   "cell_type": "markdown",
   "id": "1b9d7fd8-6bc5-414f-85b4-1e69323602d4",
   "metadata": {},
   "source": [
    "Так мы подошли к формуле `среднего абсолютного отклонения`, или `MAE`:"
   ]
  },
  {
   "cell_type": "markdown",
   "id": "fa41786f-ac59-433b-b0df-06232bcba5bb",
   "metadata": {},
   "source": [
    "<img src=\"./pict/30.png\"  \n",
    "  width=\"700\"\n",
    "/>"
   ]
  },
  {
   "cell_type": "markdown",
   "id": "4faa5079-91c6-42a0-9780-fbe2c6b317e4",
   "metadata": {},
   "source": [
    "# Интерпретация MAE"
   ]
  },
  {
   "cell_type": "markdown",
   "id": "badb53a5-d712-4528-a4ce-77d706c970bb",
   "metadata": {},
   "source": [
    "Чтобы рассчитать MSE, за константу мы принимали среднее значение. Но подойдёт ли оно для вычисления MAE? Разберёмся.\n",
    "\n",
    "Константная модель выбирается так, чтобы значение метрики MAE было предельно низким. Нужно найти такое значение `a`, при котором достигается минимум:"
   ]
  },
  {
   "cell_type": "markdown",
   "id": "0b8acd74-3d2f-49b0-8de0-4102668f641d",
   "metadata": {},
   "source": [
    "<img src=\"./pict/31.png\"  \n",
    "  width=\"700\"\n",
    "/>"
   ]
  },
  {
   "cell_type": "markdown",
   "id": "2f146bc1-0967-406b-9fd5-e7d3fb7030b0",
   "metadata": {},
   "source": [
    "Минимум получается, когда `a` равно `медиане` целевого признака."
   ]
  },
  {
   "cell_type": "markdown",
   "id": "62f65802-0305-436d-9ac8-b186b9a450be",
   "metadata": {},
   "source": [
    "# Влияние разброса на метрики"
   ]
  },
  {
   "cell_type": "markdown",
   "id": "af276b0f-74c5-4e34-8603-187a6ea9dba2",
   "metadata": {},
   "source": [
    "Рассмотрим, как MAE и RMSE зависят от разброса целевого признака.\n",
    "\n",
    "В отличие от MAE, метрика RMSE чувствительнее к большим значениям: значимые ошибки сильно влияют на итоговое значение квадратного корня из средней квадратичной ошибки. \n",
    "\n",
    "Перед вами три графика распределения ошибок (по горизонтали указаны значения ошибок, а по вертикали — их количество):\n",
    "    \n",
    "1. У первого поровну маленьких (от 0 до 10) и больших (40 и выше) ошибок.\n",
    "2. На втором и третьем графиках постепенно увеличивается разрыв. Возникают очень большие ошибки, становится больше маленьких. Значения MAE не меняются: большие ошибки компенсируются маленькими. А вот RMSE увеличивается."
   ]
  },
  {
   "cell_type": "markdown",
   "id": "fc2cc9ed-142a-45ca-a16d-f1fd767b12ca",
   "metadata": {},
   "source": [
    "<img src=\"./pict/33.jpg\"  \n",
    "  width=\"700\"\n",
    "/>"
   ]
  },
  {
   "cell_type": "markdown",
   "id": "5f9d130a-9c66-4b31-bac2-13315eceb96c",
   "metadata": {},
   "source": [
    "Теперь вы знаете, что можно изменять значение одной метрики, не меняя другую."
   ]
  },
  {
   "cell_type": "code",
   "execution_count": null,
   "id": "43ef83ca-a770-440f-aa42-48163529ea29",
   "metadata": {},
   "outputs": [],
   "source": []
  }
 ],
 "metadata": {
  "kernelspec": {
   "display_name": "Python 3 (ipykernel)",
   "language": "python",
   "name": "python3"
  },
  "language_info": {
   "codemirror_mode": {
    "name": "ipython",
    "version": 3
   },
   "file_extension": ".py",
   "mimetype": "text/x-python",
   "name": "python",
   "nbconvert_exporter": "python",
   "pygments_lexer": "ipython3",
   "version": "3.9.12"
  },
  "toc-autonumbering": true
 },
 "nbformat": 4,
 "nbformat_minor": 5
}
