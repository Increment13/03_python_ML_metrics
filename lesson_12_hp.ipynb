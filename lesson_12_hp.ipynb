{
 "cells": [
  {
   "cell_type": "code",
   "execution_count": 8,
   "id": "35302d25-f0cd-4897-9e8e-6bca36afb8c0",
   "metadata": {},
   "outputs": [],
   "source": [
    "import pandas as pd\n",
    "import numpy as np\n",
    "from sklearn.model_selection import train_test_split\n",
    "from sklearn.linear_model import LogisticRegression"
   ]
  },
  {
   "cell_type": "code",
   "execution_count": 2,
   "id": "32e92b37-603a-4af8-b9cf-5f6fe7157799",
   "metadata": {},
   "outputs": [],
   "source": [
    "df = pd.read_csv('./data/data_from_sslv.csv')\n",
    "df = df.drop(['Unnamed: 0','district','data_street','facilities'], axis=1)"
   ]
  },
  {
   "cell_type": "code",
   "execution_count": 3,
   "id": "0e377960-e25c-4702-a6e3-daa13e5d5841",
   "metadata": {},
   "outputs": [
    {
     "data": {
      "text/html": [
       "<div>\n",
       "<style scoped>\n",
       "    .dataframe tbody tr th:only-of-type {\n",
       "        vertical-align: middle;\n",
       "    }\n",
       "\n",
       "    .dataframe tbody tr th {\n",
       "        vertical-align: top;\n",
       "    }\n",
       "\n",
       "    .dataframe thead th {\n",
       "        text-align: right;\n",
       "    }\n",
       "</style>\n",
       "<table border=\"1\" class=\"dataframe\">\n",
       "  <thead>\n",
       "    <tr style=\"text-align: right;\">\n",
       "      <th></th>\n",
       "      <th>rooms</th>\n",
       "      <th>area</th>\n",
       "      <th>price_eur</th>\n",
       "      <th>period</th>\n",
       "      <th>cur_floor</th>\n",
       "      <th>total_floor</th>\n",
       "      <th>lift</th>\n",
       "      <th>seria</th>\n",
       "      <th>house_type</th>\n",
       "      <th>len</th>\n",
       "      <th>lon</th>\n",
       "      <th>wifi</th>\n",
       "    </tr>\n",
       "  </thead>\n",
       "  <tbody>\n",
       "    <tr>\n",
       "      <th>0</th>\n",
       "      <td>2</td>\n",
       "      <td>56.0</td>\n",
       "      <td>380</td>\n",
       "      <td>30</td>\n",
       "      <td>5</td>\n",
       "      <td>6</td>\n",
       "      <td>0</td>\n",
       "      <td>Дов. дом</td>\n",
       "      <td>Каменный</td>\n",
       "      <td>56.950794</td>\n",
       "      <td>24.129151</td>\n",
       "      <td>0</td>\n",
       "    </tr>\n",
       "    <tr>\n",
       "      <th>1</th>\n",
       "      <td>1</td>\n",
       "      <td>36.0</td>\n",
       "      <td>230</td>\n",
       "      <td>30</td>\n",
       "      <td>8</td>\n",
       "      <td>9</td>\n",
       "      <td>1</td>\n",
       "      <td>602-я</td>\n",
       "      <td>Панельный</td>\n",
       "      <td>56.899347</td>\n",
       "      <td>24.096512</td>\n",
       "      <td>0</td>\n",
       "    </tr>\n",
       "    <tr>\n",
       "      <th>2</th>\n",
       "      <td>1</td>\n",
       "      <td>29.0</td>\n",
       "      <td>370</td>\n",
       "      <td>30</td>\n",
       "      <td>1</td>\n",
       "      <td>3</td>\n",
       "      <td>0</td>\n",
       "      <td>Дов. дом</td>\n",
       "      <td>Деревянный</td>\n",
       "      <td>56.963121</td>\n",
       "      <td>24.131242</td>\n",
       "      <td>0</td>\n",
       "    </tr>\n",
       "    <tr>\n",
       "      <th>3</th>\n",
       "      <td>1</td>\n",
       "      <td>29.0</td>\n",
       "      <td>230</td>\n",
       "      <td>30</td>\n",
       "      <td>4</td>\n",
       "      <td>4</td>\n",
       "      <td>0</td>\n",
       "      <td>Хрущ.</td>\n",
       "      <td>Кирпичный</td>\n",
       "      <td>56.913539</td>\n",
       "      <td>24.188800</td>\n",
       "      <td>0</td>\n",
       "    </tr>\n",
       "    <tr>\n",
       "      <th>4</th>\n",
       "      <td>1</td>\n",
       "      <td>25.0</td>\n",
       "      <td>250</td>\n",
       "      <td>30</td>\n",
       "      <td>2</td>\n",
       "      <td>3</td>\n",
       "      <td>0</td>\n",
       "      <td>Ч. дом</td>\n",
       "      <td>Кирпичный</td>\n",
       "      <td>56.942383</td>\n",
       "      <td>24.190399</td>\n",
       "      <td>0</td>\n",
       "    </tr>\n",
       "  </tbody>\n",
       "</table>\n",
       "</div>"
      ],
      "text/plain": [
       "   rooms  area  price_eur  period  cur_floor  total_floor  lift     seria  \\\n",
       "0      2  56.0        380      30          5            6     0  Дов. дом   \n",
       "1      1  36.0        230      30          8            9     1     602-я   \n",
       "2      1  29.0        370      30          1            3     0  Дов. дом   \n",
       "3      1  29.0        230      30          4            4     0     Хрущ.   \n",
       "4      1  25.0        250      30          2            3     0    Ч. дом   \n",
       "\n",
       "   house_type        len        lon  wifi  \n",
       "0    Каменный  56.950794  24.129151     0  \n",
       "1   Панельный  56.899347  24.096512     0  \n",
       "2  Деревянный  56.963121  24.131242     0  \n",
       "3   Кирпичный  56.913539  24.188800     0  \n",
       "4   Кирпичный  56.942383  24.190399     0  "
      ]
     },
     "execution_count": 3,
     "metadata": {},
     "output_type": "execute_result"
    }
   ],
   "source": [
    "df.head()"
   ]
  },
  {
   "cell_type": "code",
   "execution_count": 6,
   "id": "a1c58ad0-c84a-4be5-88e3-99b322ad09e1",
   "metadata": {},
   "outputs": [],
   "source": [
    "train, valid = train_test_split(df, test_size=0.25, random_state=12345)\n",
    "\n",
    "features_train = train.drop('price_eur', axis=1)\n",
    "target_train = train['price_eur']\n",
    "features_valid = valid.drop('price_eur', axis=1)\n",
    "target_valid = valid['price_eur']"
   ]
  },
  {
   "cell_type": "code",
   "execution_count": 10,
   "id": "d1b4da91-c476-42a1-8a9a-6a1b6cd02bcd",
   "metadata": {},
   "outputs": [],
   "source": [
    "# model = LogisticRegression()\n",
    "# model.fit(features_train, target_train) "
   ]
  },
  {
   "cell_type": "markdown",
   "id": "964c2c75-75f7-4392-81d8-804213626fda",
   "metadata": {},
   "source": [
    "## One-Hot Encoding"
   ]
  },
  {
   "cell_type": "code",
   "execution_count": 12,
   "id": "2f24d1b8-2cc1-490f-b3b6-b074338a063d",
   "metadata": {},
   "outputs": [
    {
     "data": {
      "text/plain": [
       "array(['Дов. дом', '602-я', 'Хрущ.', 'Ч. дом', 'Рекон.', 'Лит. пр.',\n",
       "       '103-я', 'Спец. пр.', '119-я', 'М. сем.', 'Чеш. пр.', 'Нов.',\n",
       "       '104-я', 'Сталинка', '467-я'], dtype=object)"
      ]
     },
     "execution_count": 12,
     "metadata": {},
     "output_type": "execute_result"
    }
   ],
   "source": [
    "df['seria'].unique()"
   ]
  },
  {
   "cell_type": "code",
   "execution_count": 15,
   "id": "0af27986-fc8b-4f87-8a7f-b523bedcc5b3",
   "metadata": {},
   "outputs": [
    {
     "data": {
      "text/html": [
       "<div>\n",
       "<style scoped>\n",
       "    .dataframe tbody tr th:only-of-type {\n",
       "        vertical-align: middle;\n",
       "    }\n",
       "\n",
       "    .dataframe tbody tr th {\n",
       "        vertical-align: top;\n",
       "    }\n",
       "\n",
       "    .dataframe thead th {\n",
       "        text-align: right;\n",
       "    }\n",
       "</style>\n",
       "<table border=\"1\" class=\"dataframe\">\n",
       "  <thead>\n",
       "    <tr style=\"text-align: right;\">\n",
       "      <th></th>\n",
       "      <th>103-я</th>\n",
       "      <th>104-я</th>\n",
       "      <th>119-я</th>\n",
       "      <th>467-я</th>\n",
       "      <th>602-я</th>\n",
       "      <th>Дов. дом</th>\n",
       "      <th>Лит. пр.</th>\n",
       "      <th>М. сем.</th>\n",
       "      <th>Нов.</th>\n",
       "      <th>Рекон.</th>\n",
       "      <th>Спец. пр.</th>\n",
       "      <th>Сталинка</th>\n",
       "      <th>Хрущ.</th>\n",
       "      <th>Ч. дом</th>\n",
       "      <th>Чеш. пр.</th>\n",
       "    </tr>\n",
       "  </thead>\n",
       "  <tbody>\n",
       "    <tr>\n",
       "      <th>0</th>\n",
       "      <td>0</td>\n",
       "      <td>0</td>\n",
       "      <td>0</td>\n",
       "      <td>0</td>\n",
       "      <td>0</td>\n",
       "      <td>1</td>\n",
       "      <td>0</td>\n",
       "      <td>0</td>\n",
       "      <td>0</td>\n",
       "      <td>0</td>\n",
       "      <td>0</td>\n",
       "      <td>0</td>\n",
       "      <td>0</td>\n",
       "      <td>0</td>\n",
       "      <td>0</td>\n",
       "    </tr>\n",
       "    <tr>\n",
       "      <th>1</th>\n",
       "      <td>0</td>\n",
       "      <td>0</td>\n",
       "      <td>0</td>\n",
       "      <td>0</td>\n",
       "      <td>1</td>\n",
       "      <td>0</td>\n",
       "      <td>0</td>\n",
       "      <td>0</td>\n",
       "      <td>0</td>\n",
       "      <td>0</td>\n",
       "      <td>0</td>\n",
       "      <td>0</td>\n",
       "      <td>0</td>\n",
       "      <td>0</td>\n",
       "      <td>0</td>\n",
       "    </tr>\n",
       "    <tr>\n",
       "      <th>2</th>\n",
       "      <td>0</td>\n",
       "      <td>0</td>\n",
       "      <td>0</td>\n",
       "      <td>0</td>\n",
       "      <td>0</td>\n",
       "      <td>1</td>\n",
       "      <td>0</td>\n",
       "      <td>0</td>\n",
       "      <td>0</td>\n",
       "      <td>0</td>\n",
       "      <td>0</td>\n",
       "      <td>0</td>\n",
       "      <td>0</td>\n",
       "      <td>0</td>\n",
       "      <td>0</td>\n",
       "    </tr>\n",
       "    <tr>\n",
       "      <th>3</th>\n",
       "      <td>0</td>\n",
       "      <td>0</td>\n",
       "      <td>0</td>\n",
       "      <td>0</td>\n",
       "      <td>0</td>\n",
       "      <td>0</td>\n",
       "      <td>0</td>\n",
       "      <td>0</td>\n",
       "      <td>0</td>\n",
       "      <td>0</td>\n",
       "      <td>0</td>\n",
       "      <td>0</td>\n",
       "      <td>1</td>\n",
       "      <td>0</td>\n",
       "      <td>0</td>\n",
       "    </tr>\n",
       "    <tr>\n",
       "      <th>4</th>\n",
       "      <td>0</td>\n",
       "      <td>0</td>\n",
       "      <td>0</td>\n",
       "      <td>0</td>\n",
       "      <td>0</td>\n",
       "      <td>0</td>\n",
       "      <td>0</td>\n",
       "      <td>0</td>\n",
       "      <td>0</td>\n",
       "      <td>0</td>\n",
       "      <td>0</td>\n",
       "      <td>0</td>\n",
       "      <td>0</td>\n",
       "      <td>1</td>\n",
       "      <td>0</td>\n",
       "    </tr>\n",
       "  </tbody>\n",
       "</table>\n",
       "</div>"
      ],
      "text/plain": [
       "   103-я  104-я  119-я  467-я  602-я  Дов. дом  Лит. пр.  М. сем.  Нов.  \\\n",
       "0      0      0      0      0      0         1         0        0     0   \n",
       "1      0      0      0      0      1         0         0        0     0   \n",
       "2      0      0      0      0      0         1         0        0     0   \n",
       "3      0      0      0      0      0         0         0        0     0   \n",
       "4      0      0      0      0      0         0         0        0     0   \n",
       "\n",
       "   Рекон.  Спец. пр.  Сталинка  Хрущ.  Ч. дом  Чеш. пр.  \n",
       "0       0          0         0      0       0         0  \n",
       "1       0          0         0      0       0         0  \n",
       "2       0          0         0      0       0         0  \n",
       "3       0          0         0      1       0         0  \n",
       "4       0          0         0      0       1         0  "
      ]
     },
     "metadata": {},
     "output_type": "display_data"
    }
   ],
   "source": [
    "display(pd.get_dummies(df['seria']).head())"
   ]
  },
  {
   "cell_type": "code",
   "execution_count": 32,
   "id": "6441fe2a-1d1f-4a85-8ca0-e6f16536f645",
   "metadata": {},
   "outputs": [],
   "source": [
    "data_ohe = pd.get_dummies(df, drop_first=True)\n",
    "target = data_ohe['price_eur']\n",
    "features = data_ohe.drop('price_eur', axis=1)"
   ]
  },
  {
   "cell_type": "code",
   "execution_count": 33,
   "id": "9696cda1-23b3-46e0-8c40-ae47a46b693e",
   "metadata": {},
   "outputs": [
    {
     "data": {
      "text/html": [
       "<div>\n",
       "<style scoped>\n",
       "    .dataframe tbody tr th:only-of-type {\n",
       "        vertical-align: middle;\n",
       "    }\n",
       "\n",
       "    .dataframe tbody tr th {\n",
       "        vertical-align: top;\n",
       "    }\n",
       "\n",
       "    .dataframe thead th {\n",
       "        text-align: right;\n",
       "    }\n",
       "</style>\n",
       "<table border=\"1\" class=\"dataframe\">\n",
       "  <thead>\n",
       "    <tr style=\"text-align: right;\">\n",
       "      <th></th>\n",
       "      <th>rooms</th>\n",
       "      <th>area</th>\n",
       "      <th>period</th>\n",
       "      <th>cur_floor</th>\n",
       "      <th>total_floor</th>\n",
       "      <th>lift</th>\n",
       "      <th>len</th>\n",
       "      <th>lon</th>\n",
       "      <th>wifi</th>\n",
       "      <th>seria_104-я</th>\n",
       "      <th>...</th>\n",
       "      <th>seria_Спец. пр.</th>\n",
       "      <th>seria_Сталинка</th>\n",
       "      <th>seria_Хрущ.</th>\n",
       "      <th>seria_Ч. дом</th>\n",
       "      <th>seria_Чеш. пр.</th>\n",
       "      <th>house_type_Каменный</th>\n",
       "      <th>house_type_Кирпично-панельный</th>\n",
       "      <th>house_type_Кирпичный</th>\n",
       "      <th>house_type_Панельно-кирпичный</th>\n",
       "      <th>house_type_Панельный</th>\n",
       "    </tr>\n",
       "  </thead>\n",
       "  <tbody>\n",
       "    <tr>\n",
       "      <th>0</th>\n",
       "      <td>2</td>\n",
       "      <td>56.0</td>\n",
       "      <td>30</td>\n",
       "      <td>5</td>\n",
       "      <td>6</td>\n",
       "      <td>0</td>\n",
       "      <td>56.950794</td>\n",
       "      <td>24.129151</td>\n",
       "      <td>0</td>\n",
       "      <td>0</td>\n",
       "      <td>...</td>\n",
       "      <td>0</td>\n",
       "      <td>0</td>\n",
       "      <td>0</td>\n",
       "      <td>0</td>\n",
       "      <td>0</td>\n",
       "      <td>1</td>\n",
       "      <td>0</td>\n",
       "      <td>0</td>\n",
       "      <td>0</td>\n",
       "      <td>0</td>\n",
       "    </tr>\n",
       "    <tr>\n",
       "      <th>1</th>\n",
       "      <td>1</td>\n",
       "      <td>36.0</td>\n",
       "      <td>30</td>\n",
       "      <td>8</td>\n",
       "      <td>9</td>\n",
       "      <td>1</td>\n",
       "      <td>56.899347</td>\n",
       "      <td>24.096512</td>\n",
       "      <td>0</td>\n",
       "      <td>0</td>\n",
       "      <td>...</td>\n",
       "      <td>0</td>\n",
       "      <td>0</td>\n",
       "      <td>0</td>\n",
       "      <td>0</td>\n",
       "      <td>0</td>\n",
       "      <td>0</td>\n",
       "      <td>0</td>\n",
       "      <td>0</td>\n",
       "      <td>0</td>\n",
       "      <td>1</td>\n",
       "    </tr>\n",
       "    <tr>\n",
       "      <th>2</th>\n",
       "      <td>1</td>\n",
       "      <td>29.0</td>\n",
       "      <td>30</td>\n",
       "      <td>1</td>\n",
       "      <td>3</td>\n",
       "      <td>0</td>\n",
       "      <td>56.963121</td>\n",
       "      <td>24.131242</td>\n",
       "      <td>0</td>\n",
       "      <td>0</td>\n",
       "      <td>...</td>\n",
       "      <td>0</td>\n",
       "      <td>0</td>\n",
       "      <td>0</td>\n",
       "      <td>0</td>\n",
       "      <td>0</td>\n",
       "      <td>0</td>\n",
       "      <td>0</td>\n",
       "      <td>0</td>\n",
       "      <td>0</td>\n",
       "      <td>0</td>\n",
       "    </tr>\n",
       "    <tr>\n",
       "      <th>3</th>\n",
       "      <td>1</td>\n",
       "      <td>29.0</td>\n",
       "      <td>30</td>\n",
       "      <td>4</td>\n",
       "      <td>4</td>\n",
       "      <td>0</td>\n",
       "      <td>56.913539</td>\n",
       "      <td>24.188800</td>\n",
       "      <td>0</td>\n",
       "      <td>0</td>\n",
       "      <td>...</td>\n",
       "      <td>0</td>\n",
       "      <td>0</td>\n",
       "      <td>1</td>\n",
       "      <td>0</td>\n",
       "      <td>0</td>\n",
       "      <td>0</td>\n",
       "      <td>0</td>\n",
       "      <td>1</td>\n",
       "      <td>0</td>\n",
       "      <td>0</td>\n",
       "    </tr>\n",
       "    <tr>\n",
       "      <th>4</th>\n",
       "      <td>1</td>\n",
       "      <td>25.0</td>\n",
       "      <td>30</td>\n",
       "      <td>2</td>\n",
       "      <td>3</td>\n",
       "      <td>0</td>\n",
       "      <td>56.942383</td>\n",
       "      <td>24.190399</td>\n",
       "      <td>0</td>\n",
       "      <td>0</td>\n",
       "      <td>...</td>\n",
       "      <td>0</td>\n",
       "      <td>0</td>\n",
       "      <td>0</td>\n",
       "      <td>1</td>\n",
       "      <td>0</td>\n",
       "      <td>0</td>\n",
       "      <td>0</td>\n",
       "      <td>1</td>\n",
       "      <td>0</td>\n",
       "      <td>0</td>\n",
       "    </tr>\n",
       "  </tbody>\n",
       "</table>\n",
       "<p>5 rows × 28 columns</p>\n",
       "</div>"
      ],
      "text/plain": [
       "   rooms  area  period  cur_floor  total_floor  lift        len        lon  \\\n",
       "0      2  56.0      30          5            6     0  56.950794  24.129151   \n",
       "1      1  36.0      30          8            9     1  56.899347  24.096512   \n",
       "2      1  29.0      30          1            3     0  56.963121  24.131242   \n",
       "3      1  29.0      30          4            4     0  56.913539  24.188800   \n",
       "4      1  25.0      30          2            3     0  56.942383  24.190399   \n",
       "\n",
       "   wifi  seria_104-я  ...  seria_Спец. пр.  seria_Сталинка  seria_Хрущ.  \\\n",
       "0     0            0  ...                0               0            0   \n",
       "1     0            0  ...                0               0            0   \n",
       "2     0            0  ...                0               0            0   \n",
       "3     0            0  ...                0               0            1   \n",
       "4     0            0  ...                0               0            0   \n",
       "\n",
       "   seria_Ч. дом  seria_Чеш. пр.  house_type_Каменный  \\\n",
       "0             0               0                    1   \n",
       "1             0               0                    0   \n",
       "2             0               0                    0   \n",
       "3             0               0                    0   \n",
       "4             1               0                    0   \n",
       "\n",
       "   house_type_Кирпично-панельный  house_type_Кирпичный  \\\n",
       "0                              0                     0   \n",
       "1                              0                     0   \n",
       "2                              0                     0   \n",
       "3                              0                     1   \n",
       "4                              0                     1   \n",
       "\n",
       "   house_type_Панельно-кирпичный  house_type_Панельный  \n",
       "0                              0                     0  \n",
       "1                              0                     1  \n",
       "2                              0                     0  \n",
       "3                              0                     0  \n",
       "4                              0                     0  \n",
       "\n",
       "[5 rows x 28 columns]"
      ]
     },
     "execution_count": 33,
     "metadata": {},
     "output_type": "execute_result"
    }
   ],
   "source": [
    "features.head()"
   ]
  },
  {
   "cell_type": "code",
   "execution_count": 37,
   "id": "9dd4ce3f-40b5-4451-a422-37dec09d1f1c",
   "metadata": {},
   "outputs": [
    {
     "data": {
      "text/html": [
       "<style>#sk-container-id-2 {color: black;background-color: white;}#sk-container-id-2 pre{padding: 0;}#sk-container-id-2 div.sk-toggleable {background-color: white;}#sk-container-id-2 label.sk-toggleable__label {cursor: pointer;display: block;width: 100%;margin-bottom: 0;padding: 0.3em;box-sizing: border-box;text-align: center;}#sk-container-id-2 label.sk-toggleable__label-arrow:before {content: \"▸\";float: left;margin-right: 0.25em;color: #696969;}#sk-container-id-2 label.sk-toggleable__label-arrow:hover:before {color: black;}#sk-container-id-2 div.sk-estimator:hover label.sk-toggleable__label-arrow:before {color: black;}#sk-container-id-2 div.sk-toggleable__content {max-height: 0;max-width: 0;overflow: hidden;text-align: left;background-color: #f0f8ff;}#sk-container-id-2 div.sk-toggleable__content pre {margin: 0.2em;color: black;border-radius: 0.25em;background-color: #f0f8ff;}#sk-container-id-2 input.sk-toggleable__control:checked~div.sk-toggleable__content {max-height: 200px;max-width: 100%;overflow: auto;}#sk-container-id-2 input.sk-toggleable__control:checked~label.sk-toggleable__label-arrow:before {content: \"▾\";}#sk-container-id-2 div.sk-estimator input.sk-toggleable__control:checked~label.sk-toggleable__label {background-color: #d4ebff;}#sk-container-id-2 div.sk-label input.sk-toggleable__control:checked~label.sk-toggleable__label {background-color: #d4ebff;}#sk-container-id-2 input.sk-hidden--visually {border: 0;clip: rect(1px 1px 1px 1px);clip: rect(1px, 1px, 1px, 1px);height: 1px;margin: -1px;overflow: hidden;padding: 0;position: absolute;width: 1px;}#sk-container-id-2 div.sk-estimator {font-family: monospace;background-color: #f0f8ff;border: 1px dotted black;border-radius: 0.25em;box-sizing: border-box;margin-bottom: 0.5em;}#sk-container-id-2 div.sk-estimator:hover {background-color: #d4ebff;}#sk-container-id-2 div.sk-parallel-item::after {content: \"\";width: 100%;border-bottom: 1px solid gray;flex-grow: 1;}#sk-container-id-2 div.sk-label:hover label.sk-toggleable__label {background-color: #d4ebff;}#sk-container-id-2 div.sk-serial::before {content: \"\";position: absolute;border-left: 1px solid gray;box-sizing: border-box;top: 0;bottom: 0;left: 50%;z-index: 0;}#sk-container-id-2 div.sk-serial {display: flex;flex-direction: column;align-items: center;background-color: white;padding-right: 0.2em;padding-left: 0.2em;position: relative;}#sk-container-id-2 div.sk-item {position: relative;z-index: 1;}#sk-container-id-2 div.sk-parallel {display: flex;align-items: stretch;justify-content: center;background-color: white;position: relative;}#sk-container-id-2 div.sk-item::before, #sk-container-id-2 div.sk-parallel-item::before {content: \"\";position: absolute;border-left: 1px solid gray;box-sizing: border-box;top: 0;bottom: 0;left: 50%;z-index: -1;}#sk-container-id-2 div.sk-parallel-item {display: flex;flex-direction: column;z-index: 1;position: relative;background-color: white;}#sk-container-id-2 div.sk-parallel-item:first-child::after {align-self: flex-end;width: 50%;}#sk-container-id-2 div.sk-parallel-item:last-child::after {align-self: flex-start;width: 50%;}#sk-container-id-2 div.sk-parallel-item:only-child::after {width: 0;}#sk-container-id-2 div.sk-dashed-wrapped {border: 1px dashed gray;margin: 0 0.4em 0.5em 0.4em;box-sizing: border-box;padding-bottom: 0.4em;background-color: white;}#sk-container-id-2 div.sk-label label {font-family: monospace;font-weight: bold;display: inline-block;line-height: 1.2em;}#sk-container-id-2 div.sk-label-container {text-align: center;}#sk-container-id-2 div.sk-container {/* jupyter's `normalize.less` sets `[hidden] { display: none; }` but bootstrap.min.css set `[hidden] { display: none !important; }` so we also need the `!important` here to be able to override the default hidden behavior on the sphinx rendered scikit-learn.org. See: https://github.com/scikit-learn/scikit-learn/issues/21755 */display: inline-block !important;position: relative;}#sk-container-id-2 div.sk-text-repr-fallback {display: none;}</style><div id=\"sk-container-id-2\" class=\"sk-top-container\"><div class=\"sk-text-repr-fallback\"><pre>LogisticRegression(solver=&#x27;liblinear&#x27;)</pre><b>In a Jupyter environment, please rerun this cell to show the HTML representation or trust the notebook. <br />On GitHub, the HTML representation is unable to render, please try loading this page with nbviewer.org.</b></div><div class=\"sk-container\" hidden><div class=\"sk-item\"><div class=\"sk-estimator sk-toggleable\"><input class=\"sk-toggleable__control sk-hidden--visually\" id=\"sk-estimator-id-2\" type=\"checkbox\" checked><label for=\"sk-estimator-id-2\" class=\"sk-toggleable__label sk-toggleable__label-arrow\">LogisticRegression</label><div class=\"sk-toggleable__content\"><pre>LogisticRegression(solver=&#x27;liblinear&#x27;)</pre></div></div></div></div></div>"
      ],
      "text/plain": [
       "LogisticRegression(solver='liblinear')"
      ]
     },
     "execution_count": 37,
     "metadata": {},
     "output_type": "execute_result"
    }
   ],
   "source": [
    "model = LogisticRegression(solver='liblinear')\n",
    "model.fit(features, target) "
   ]
  },
  {
   "cell_type": "markdown",
   "id": "37c034c6-3c78-44b8-8ac6-c55ab6e6f0f1",
   "metadata": {},
   "source": [
    "## OrdinalEncoder"
   ]
  },
  {
   "cell_type": "code",
   "execution_count": 16,
   "id": "bc41de7d-7056-40df-95bc-0d17dc92a66e",
   "metadata": {},
   "outputs": [],
   "source": [
    "from sklearn.preprocessing import OrdinalEncoder\n",
    "\n",
    "encoder = OrdinalEncoder()\n",
    "\n",
    "data_ordinal = pd.DataFrame(encoder.fit_transform(df[['seria','house_type']]),\n",
    "                            columns=['seria','house_type'])"
   ]
  },
  {
   "cell_type": "code",
   "execution_count": 17,
   "id": "ee15562a-e83e-47f0-8611-95cd02588592",
   "metadata": {},
   "outputs": [
    {
     "data": {
      "text/html": [
       "<div>\n",
       "<style scoped>\n",
       "    .dataframe tbody tr th:only-of-type {\n",
       "        vertical-align: middle;\n",
       "    }\n",
       "\n",
       "    .dataframe tbody tr th {\n",
       "        vertical-align: top;\n",
       "    }\n",
       "\n",
       "    .dataframe thead th {\n",
       "        text-align: right;\n",
       "    }\n",
       "</style>\n",
       "<table border=\"1\" class=\"dataframe\">\n",
       "  <thead>\n",
       "    <tr style=\"text-align: right;\">\n",
       "      <th></th>\n",
       "      <th>seria</th>\n",
       "      <th>house_type</th>\n",
       "    </tr>\n",
       "  </thead>\n",
       "  <tbody>\n",
       "    <tr>\n",
       "      <th>0</th>\n",
       "      <td>5.0</td>\n",
       "      <td>1.0</td>\n",
       "    </tr>\n",
       "    <tr>\n",
       "      <th>1</th>\n",
       "      <td>4.0</td>\n",
       "      <td>5.0</td>\n",
       "    </tr>\n",
       "    <tr>\n",
       "      <th>2</th>\n",
       "      <td>5.0</td>\n",
       "      <td>0.0</td>\n",
       "    </tr>\n",
       "    <tr>\n",
       "      <th>3</th>\n",
       "      <td>12.0</td>\n",
       "      <td>3.0</td>\n",
       "    </tr>\n",
       "    <tr>\n",
       "      <th>4</th>\n",
       "      <td>13.0</td>\n",
       "      <td>3.0</td>\n",
       "    </tr>\n",
       "  </tbody>\n",
       "</table>\n",
       "</div>"
      ],
      "text/plain": [
       "   seria  house_type\n",
       "0    5.0         1.0\n",
       "1    4.0         5.0\n",
       "2    5.0         0.0\n",
       "3   12.0         3.0\n",
       "4   13.0         3.0"
      ]
     },
     "execution_count": 17,
     "metadata": {},
     "output_type": "execute_result"
    }
   ],
   "source": [
    "data_ordinal.head()"
   ]
  },
  {
   "cell_type": "markdown",
   "id": "f7687fff-faef-4ce6-a111-eaf88fc9194d",
   "metadata": {},
   "source": [
    "## Масштабирование признаков"
   ]
  },
  {
   "cell_type": "code",
   "execution_count": 18,
   "id": "641d8a64-846d-4e73-b155-8d8f97177dc5",
   "metadata": {},
   "outputs": [
    {
     "data": {
      "text/html": [
       "<div>\n",
       "<style scoped>\n",
       "    .dataframe tbody tr th:only-of-type {\n",
       "        vertical-align: middle;\n",
       "    }\n",
       "\n",
       "    .dataframe tbody tr th {\n",
       "        vertical-align: top;\n",
       "    }\n",
       "\n",
       "    .dataframe thead th {\n",
       "        text-align: right;\n",
       "    }\n",
       "</style>\n",
       "<table border=\"1\" class=\"dataframe\">\n",
       "  <thead>\n",
       "    <tr style=\"text-align: right;\">\n",
       "      <th></th>\n",
       "      <th>rooms</th>\n",
       "      <th>area</th>\n",
       "      <th>period</th>\n",
       "      <th>cur_floor</th>\n",
       "      <th>total_floor</th>\n",
       "      <th>lift</th>\n",
       "      <th>seria</th>\n",
       "      <th>house_type</th>\n",
       "      <th>len</th>\n",
       "      <th>lon</th>\n",
       "      <th>wifi</th>\n",
       "    </tr>\n",
       "  </thead>\n",
       "  <tbody>\n",
       "    <tr>\n",
       "      <th>350</th>\n",
       "      <td>-1.073901</td>\n",
       "      <td>-1.080086</td>\n",
       "      <td>0.207590</td>\n",
       "      <td>-0.189723</td>\n",
       "      <td>-0.819770</td>\n",
       "      <td>-0.654191</td>\n",
       "      <td>Дов. дом</td>\n",
       "      <td>Деревянный</td>\n",
       "      <td>56.992680</td>\n",
       "      <td>24.128686</td>\n",
       "      <td>0</td>\n",
       "    </tr>\n",
       "    <tr>\n",
       "      <th>10</th>\n",
       "      <td>1.268524</td>\n",
       "      <td>0.816355</td>\n",
       "      <td>0.207590</td>\n",
       "      <td>0.169472</td>\n",
       "      <td>-0.252496</td>\n",
       "      <td>-0.654191</td>\n",
       "      <td>Дов. дом</td>\n",
       "      <td>Каменный</td>\n",
       "      <td>56.957498</td>\n",
       "      <td>24.131861</td>\n",
       "      <td>0</td>\n",
       "    </tr>\n",
       "    <tr>\n",
       "      <th>243</th>\n",
       "      <td>-1.073901</td>\n",
       "      <td>-0.886572</td>\n",
       "      <td>0.207590</td>\n",
       "      <td>-0.548918</td>\n",
       "      <td>-0.252496</td>\n",
       "      <td>-0.654191</td>\n",
       "      <td>Рекон.</td>\n",
       "      <td>Каменный</td>\n",
       "      <td>56.948843</td>\n",
       "      <td>24.150363</td>\n",
       "      <td>0</td>\n",
       "    </tr>\n",
       "    <tr>\n",
       "      <th>341</th>\n",
       "      <td>-1.073901</td>\n",
       "      <td>-0.306029</td>\n",
       "      <td>-4.941579</td>\n",
       "      <td>1.965445</td>\n",
       "      <td>0.882052</td>\n",
       "      <td>1.528605</td>\n",
       "      <td>Спец. пр.</td>\n",
       "      <td>Кирпичный</td>\n",
       "      <td>56.965622</td>\n",
       "      <td>24.182686</td>\n",
       "      <td>0</td>\n",
       "    </tr>\n",
       "    <tr>\n",
       "      <th>161</th>\n",
       "      <td>1.268524</td>\n",
       "      <td>0.971167</td>\n",
       "      <td>0.207590</td>\n",
       "      <td>0.169472</td>\n",
       "      <td>-0.536133</td>\n",
       "      <td>-0.654191</td>\n",
       "      <td>Дов. дом</td>\n",
       "      <td>Кирпичный</td>\n",
       "      <td>56.979104</td>\n",
       "      <td>24.186862</td>\n",
       "      <td>0</td>\n",
       "    </tr>\n",
       "  </tbody>\n",
       "</table>\n",
       "</div>"
      ],
      "text/plain": [
       "        rooms      area    period  cur_floor  total_floor      lift  \\\n",
       "350 -1.073901 -1.080086  0.207590  -0.189723    -0.819770 -0.654191   \n",
       "10   1.268524  0.816355  0.207590   0.169472    -0.252496 -0.654191   \n",
       "243 -1.073901 -0.886572  0.207590  -0.548918    -0.252496 -0.654191   \n",
       "341 -1.073901 -0.306029 -4.941579   1.965445     0.882052  1.528605   \n",
       "161  1.268524  0.971167  0.207590   0.169472    -0.536133 -0.654191   \n",
       "\n",
       "         seria  house_type        len        lon  wifi  \n",
       "350   Дов. дом  Деревянный  56.992680  24.128686     0  \n",
       "10    Дов. дом    Каменный  56.957498  24.131861     0  \n",
       "243     Рекон.    Каменный  56.948843  24.150363     0  \n",
       "341  Спец. пр.   Кирпичный  56.965622  24.182686     0  \n",
       "161   Дов. дом   Кирпичный  56.979104  24.186862     0  "
      ]
     },
     "execution_count": 18,
     "metadata": {},
     "output_type": "execute_result"
    }
   ],
   "source": [
    "from sklearn.preprocessing import StandardScaler \n",
    "pd.options.mode.chained_assignment = None\n",
    "\n",
    "scaler = StandardScaler()\n",
    "\n",
    "target = df['price_eur']\n",
    "\n",
    "features = df.drop('price_eur', axis=1)\n",
    "\n",
    "features_train, features_valid, target_train, target_valid = train_test_split(\n",
    "    features, target, test_size=0.25, random_state=12345)\n",
    "\n",
    "numeric = ['rooms','area','period','cur_floor','total_floor','lift']\n",
    "\n",
    "scaler.fit(features_train[numeric])\n",
    "\n",
    "features_train[numeric] = scaler.transform(features_train[numeric])\n",
    "features_valid[numeric] = scaler.transform(features_valid[numeric])\n",
    "\n",
    "features_train.head()"
   ]
  },
  {
   "cell_type": "markdown",
   "id": "c9b13342-deab-4b3d-aaf4-4dc5d66000a8",
   "metadata": {},
   "source": [
    "# Метрики качества"
   ]
  },
  {
   "cell_type": "code",
   "execution_count": 19,
   "id": "690a5a96-2dcd-467e-b69d-4f53204b9524",
   "metadata": {},
   "outputs": [],
   "source": [
    "df = pd.read_csv('./data/data_from_sslv.csv')\n",
    "df = df.drop(['Unnamed: 0','district','data_street','facilities','seria','house_type'], axis=1)"
   ]
  },
  {
   "cell_type": "code",
   "execution_count": 20,
   "id": "90cb3ea9-938f-4373-a509-e795b6158ef8",
   "metadata": {},
   "outputs": [],
   "source": [
    "df['price_eur'] = np.where(df['price_eur']>200, 0, 1)"
   ]
  },
  {
   "cell_type": "code",
   "execution_count": 21,
   "id": "7307d22f-4b90-4962-a86a-cd3085adfde6",
   "metadata": {},
   "outputs": [
    {
     "data": {
      "text/html": [
       "<div>\n",
       "<style scoped>\n",
       "    .dataframe tbody tr th:only-of-type {\n",
       "        vertical-align: middle;\n",
       "    }\n",
       "\n",
       "    .dataframe tbody tr th {\n",
       "        vertical-align: top;\n",
       "    }\n",
       "\n",
       "    .dataframe thead th {\n",
       "        text-align: right;\n",
       "    }\n",
       "</style>\n",
       "<table border=\"1\" class=\"dataframe\">\n",
       "  <thead>\n",
       "    <tr style=\"text-align: right;\">\n",
       "      <th></th>\n",
       "      <th>rooms</th>\n",
       "      <th>area</th>\n",
       "      <th>price_eur</th>\n",
       "      <th>period</th>\n",
       "      <th>cur_floor</th>\n",
       "      <th>total_floor</th>\n",
       "      <th>lift</th>\n",
       "      <th>len</th>\n",
       "      <th>lon</th>\n",
       "      <th>wifi</th>\n",
       "    </tr>\n",
       "  </thead>\n",
       "  <tbody>\n",
       "    <tr>\n",
       "      <th>0</th>\n",
       "      <td>2</td>\n",
       "      <td>56.0</td>\n",
       "      <td>0</td>\n",
       "      <td>30</td>\n",
       "      <td>5</td>\n",
       "      <td>6</td>\n",
       "      <td>0</td>\n",
       "      <td>56.950794</td>\n",
       "      <td>24.129151</td>\n",
       "      <td>0</td>\n",
       "    </tr>\n",
       "    <tr>\n",
       "      <th>1</th>\n",
       "      <td>1</td>\n",
       "      <td>36.0</td>\n",
       "      <td>0</td>\n",
       "      <td>30</td>\n",
       "      <td>8</td>\n",
       "      <td>9</td>\n",
       "      <td>1</td>\n",
       "      <td>56.899347</td>\n",
       "      <td>24.096512</td>\n",
       "      <td>0</td>\n",
       "    </tr>\n",
       "    <tr>\n",
       "      <th>2</th>\n",
       "      <td>1</td>\n",
       "      <td>29.0</td>\n",
       "      <td>0</td>\n",
       "      <td>30</td>\n",
       "      <td>1</td>\n",
       "      <td>3</td>\n",
       "      <td>0</td>\n",
       "      <td>56.963121</td>\n",
       "      <td>24.131242</td>\n",
       "      <td>0</td>\n",
       "    </tr>\n",
       "    <tr>\n",
       "      <th>3</th>\n",
       "      <td>1</td>\n",
       "      <td>29.0</td>\n",
       "      <td>0</td>\n",
       "      <td>30</td>\n",
       "      <td>4</td>\n",
       "      <td>4</td>\n",
       "      <td>0</td>\n",
       "      <td>56.913539</td>\n",
       "      <td>24.188800</td>\n",
       "      <td>0</td>\n",
       "    </tr>\n",
       "    <tr>\n",
       "      <th>4</th>\n",
       "      <td>1</td>\n",
       "      <td>25.0</td>\n",
       "      <td>0</td>\n",
       "      <td>30</td>\n",
       "      <td>2</td>\n",
       "      <td>3</td>\n",
       "      <td>0</td>\n",
       "      <td>56.942383</td>\n",
       "      <td>24.190399</td>\n",
       "      <td>0</td>\n",
       "    </tr>\n",
       "  </tbody>\n",
       "</table>\n",
       "</div>"
      ],
      "text/plain": [
       "   rooms  area  price_eur  period  cur_floor  total_floor  lift        len  \\\n",
       "0      2  56.0          0      30          5            6     0  56.950794   \n",
       "1      1  36.0          0      30          8            9     1  56.899347   \n",
       "2      1  29.0          0      30          1            3     0  56.963121   \n",
       "3      1  29.0          0      30          4            4     0  56.913539   \n",
       "4      1  25.0          0      30          2            3     0  56.942383   \n",
       "\n",
       "         lon  wifi  \n",
       "0  24.129151     0  \n",
       "1  24.096512     0  \n",
       "2  24.131242     0  \n",
       "3  24.188800     0  \n",
       "4  24.190399     0  "
      ]
     },
     "execution_count": 21,
     "metadata": {},
     "output_type": "execute_result"
    }
   ],
   "source": [
    "df.head()"
   ]
  },
  {
   "cell_type": "code",
   "execution_count": 22,
   "id": "76bc070d-0df9-4f97-a3fe-8ff5859f4577",
   "metadata": {},
   "outputs": [],
   "source": [
    "target = df['price_eur']\n",
    "\n",
    "features = df.drop('price_eur', axis=1)"
   ]
  },
  {
   "cell_type": "code",
   "execution_count": 23,
   "id": "356e1f64-ecf5-40b6-bdb8-ceb9c6c7b3c5",
   "metadata": {},
   "outputs": [],
   "source": [
    "features_train, features_valid, target_train, target_valid = train_test_split(\n",
    "    features, target, test_size=0.25, random_state=12345)"
   ]
  },
  {
   "cell_type": "code",
   "execution_count": 24,
   "id": "eaf8bd98-995b-4b4a-b841-450b7bc4661a",
   "metadata": {},
   "outputs": [
    {
     "data": {
      "text/html": [
       "<div>\n",
       "<style scoped>\n",
       "    .dataframe tbody tr th:only-of-type {\n",
       "        vertical-align: middle;\n",
       "    }\n",
       "\n",
       "    .dataframe tbody tr th {\n",
       "        vertical-align: top;\n",
       "    }\n",
       "\n",
       "    .dataframe thead th {\n",
       "        text-align: right;\n",
       "    }\n",
       "</style>\n",
       "<table border=\"1\" class=\"dataframe\">\n",
       "  <thead>\n",
       "    <tr style=\"text-align: right;\">\n",
       "      <th></th>\n",
       "      <th>rooms</th>\n",
       "      <th>area</th>\n",
       "      <th>period</th>\n",
       "      <th>cur_floor</th>\n",
       "      <th>total_floor</th>\n",
       "      <th>lift</th>\n",
       "      <th>len</th>\n",
       "      <th>lon</th>\n",
       "      <th>wifi</th>\n",
       "    </tr>\n",
       "  </thead>\n",
       "  <tbody>\n",
       "    <tr>\n",
       "      <th>350</th>\n",
       "      <td>1</td>\n",
       "      <td>23.0</td>\n",
       "      <td>30</td>\n",
       "      <td>3</td>\n",
       "      <td>3</td>\n",
       "      <td>0</td>\n",
       "      <td>56.992680</td>\n",
       "      <td>24.128686</td>\n",
       "      <td>0</td>\n",
       "    </tr>\n",
       "    <tr>\n",
       "      <th>10</th>\n",
       "      <td>3</td>\n",
       "      <td>72.0</td>\n",
       "      <td>30</td>\n",
       "      <td>4</td>\n",
       "      <td>5</td>\n",
       "      <td>0</td>\n",
       "      <td>56.957498</td>\n",
       "      <td>24.131861</td>\n",
       "      <td>0</td>\n",
       "    </tr>\n",
       "    <tr>\n",
       "      <th>243</th>\n",
       "      <td>1</td>\n",
       "      <td>28.0</td>\n",
       "      <td>30</td>\n",
       "      <td>2</td>\n",
       "      <td>5</td>\n",
       "      <td>0</td>\n",
       "      <td>56.948843</td>\n",
       "      <td>24.150363</td>\n",
       "      <td>0</td>\n",
       "    </tr>\n",
       "    <tr>\n",
       "      <th>341</th>\n",
       "      <td>1</td>\n",
       "      <td>43.0</td>\n",
       "      <td>1</td>\n",
       "      <td>9</td>\n",
       "      <td>9</td>\n",
       "      <td>1</td>\n",
       "      <td>56.965622</td>\n",
       "      <td>24.182686</td>\n",
       "      <td>0</td>\n",
       "    </tr>\n",
       "    <tr>\n",
       "      <th>161</th>\n",
       "      <td>3</td>\n",
       "      <td>76.0</td>\n",
       "      <td>30</td>\n",
       "      <td>4</td>\n",
       "      <td>4</td>\n",
       "      <td>0</td>\n",
       "      <td>56.979104</td>\n",
       "      <td>24.186862</td>\n",
       "      <td>0</td>\n",
       "    </tr>\n",
       "  </tbody>\n",
       "</table>\n",
       "</div>"
      ],
      "text/plain": [
       "     rooms  area  period  cur_floor  total_floor  lift        len        lon  \\\n",
       "350      1  23.0      30          3            3     0  56.992680  24.128686   \n",
       "10       3  72.0      30          4            5     0  56.957498  24.131861   \n",
       "243      1  28.0      30          2            5     0  56.948843  24.150363   \n",
       "341      1  43.0       1          9            9     1  56.965622  24.182686   \n",
       "161      3  76.0      30          4            4     0  56.979104  24.186862   \n",
       "\n",
       "     wifi  \n",
       "350     0  \n",
       "10      0  \n",
       "243     0  \n",
       "341     0  \n",
       "161     0  "
      ]
     },
     "execution_count": 24,
     "metadata": {},
     "output_type": "execute_result"
    }
   ],
   "source": [
    "features_train.head()"
   ]
  },
  {
   "cell_type": "code",
   "execution_count": 25,
   "id": "564b6b51-70d8-4a81-ad0e-f709587edfb4",
   "metadata": {},
   "outputs": [
    {
     "data": {
      "text/plain": [
       "LogisticRegression(solver='liblinear')"
      ]
     },
     "execution_count": 25,
     "metadata": {},
     "output_type": "execute_result"
    }
   ],
   "source": [
    "model = LogisticRegression(solver='liblinear')\n",
    "model.fit(features_train, target_train)"
   ]
  },
  {
   "cell_type": "code",
   "execution_count": 26,
   "id": "2bc30185-3233-4317-896f-7e4b2557625b",
   "metadata": {},
   "outputs": [],
   "source": [
    "valid_predictions = model.predict(features_valid)"
   ]
  },
  {
   "cell_type": "code",
   "execution_count": 27,
   "id": "58364ada-4a31-4bfa-9dad-205c49977d37",
   "metadata": {},
   "outputs": [
    {
     "data": {
      "text/plain": [
       "0.17699115044247787"
      ]
     },
     "execution_count": 27,
     "metadata": {},
     "output_type": "execute_result"
    }
   ],
   "source": [
    "target_valid.mean()"
   ]
  },
  {
   "cell_type": "code",
   "execution_count": 28,
   "id": "77aa6c1a-16b0-4c82-90a2-9a3b0ec4113b",
   "metadata": {},
   "outputs": [],
   "source": [
    "from sklearn.metrics import confusion_matrix"
   ]
  },
  {
   "cell_type": "code",
   "execution_count": 29,
   "id": "3fb7e758-2301-4f9e-afac-8d19bb20fea1",
   "metadata": {},
   "outputs": [
    {
     "data": {
      "text/plain": [
       "array([[92, 10],\n",
       "       [ 1, 10]], dtype=int64)"
      ]
     },
     "execution_count": 29,
     "metadata": {},
     "output_type": "execute_result"
    }
   ],
   "source": [
    "# MAtrix\n",
    "confusion_matrix(valid_predictions, target_valid)"
   ]
  },
  {
   "cell_type": "code",
   "execution_count": 73,
   "id": "b52277c0-0993-4e9e-bc2b-e2566484ee26",
   "metadata": {},
   "outputs": [
    {
     "data": {
      "text/plain": [
       "0.9090909090909091"
      ]
     },
     "execution_count": 73,
     "metadata": {},
     "output_type": "execute_result"
    }
   ],
   "source": [
    "from sklearn.metrics import recall_score\n",
    "recall_score(valid_predictions, target_valid)"
   ]
  },
  {
   "cell_type": "code",
   "execution_count": 74,
   "id": "50a6546b-c303-493d-8c77-ab565d1f3cf6",
   "metadata": {},
   "outputs": [
    {
     "data": {
      "text/plain": [
       "0.5"
      ]
     },
     "execution_count": 74,
     "metadata": {},
     "output_type": "execute_result"
    }
   ],
   "source": [
    "from sklearn.metrics import precision_score\n",
    "precision_score(valid_predictions, target_valid)"
   ]
  },
  {
   "cell_type": "code",
   "execution_count": 75,
   "id": "fbee82d6-0c51-49eb-b1f4-b418fdfa66fd",
   "metadata": {},
   "outputs": [
    {
     "data": {
      "text/plain": [
       "0.9026548672566371"
      ]
     },
     "execution_count": 75,
     "metadata": {},
     "output_type": "execute_result"
    }
   ],
   "source": [
    "from sklearn.metrics import accuracy_score\n",
    "accuracy_score(valid_predictions, target_valid)"
   ]
  },
  {
   "cell_type": "code",
   "execution_count": 79,
   "id": "4b8c2295-933e-4f41-abb9-f2d1dcaa1944",
   "metadata": {},
   "outputs": [
    {
     "data": {
      "text/plain": [
       "0.6451612903225806"
      ]
     },
     "execution_count": 79,
     "metadata": {},
     "output_type": "execute_result"
    }
   ],
   "source": [
    "from sklearn.metrics import f1_score\n",
    "f1_score(valid_predictions, target_valid)"
   ]
  },
  {
   "cell_type": "markdown",
   "id": "e9cf0977-654d-4588-8064-11a2a5c36958",
   "metadata": {},
   "source": [
    "# Несбалансированная классификация"
   ]
  },
  {
   "cell_type": "code",
   "execution_count": 30,
   "id": "0b3a0b3d-4332-42e5-937e-70e309fbf0ac",
   "metadata": {},
   "outputs": [
    {
     "data": {
      "text/plain": [
       "LogisticRegression(class_weight='balanced', solver='liblinear')"
      ]
     },
     "execution_count": 30,
     "metadata": {},
     "output_type": "execute_result"
    }
   ],
   "source": [
    "model = LogisticRegression(solver='liblinear', class_weight='balanced')\n",
    "model.fit(features_train, target_train)"
   ]
  },
  {
   "cell_type": "code",
   "execution_count": 31,
   "id": "f51f1f7b-50b2-4590-871a-c5ad18b2beaf",
   "metadata": {},
   "outputs": [
    {
     "data": {
      "text/plain": [
       "0.6451612903225806"
      ]
     },
     "execution_count": 31,
     "metadata": {},
     "output_type": "execute_result"
    }
   ],
   "source": [
    "from sklearn.metrics import f1_score\n",
    "f1_score(valid_predictions, target_valid)"
   ]
  },
  {
   "cell_type": "markdown",
   "id": "bcd2215f-5159-44eb-a486-2dec68661e7d",
   "metadata": {},
   "source": [
    "## увеличение выборки "
   ]
  },
  {
   "cell_type": "code",
   "execution_count": 32,
   "id": "3cbc48f7-1859-46df-8458-fa4219157d31",
   "metadata": {},
   "outputs": [
    {
     "data": {
      "text/plain": [
       "0.17699115044247787"
      ]
     },
     "execution_count": 32,
     "metadata": {},
     "output_type": "execute_result"
    }
   ],
   "source": [
    "target_valid.mean()"
   ]
  },
  {
   "cell_type": "code",
   "execution_count": 86,
   "id": "8d80d4e3-9020-4576-af82-fea202104e0e",
   "metadata": {
    "tags": []
   },
   "outputs": [],
   "source": [
    "from sklearn.utils import shuffle\n",
    "\n",
    "def upsample(features, target, repeat):\n",
    "    features_zeros = features[target == 0]\n",
    "    features_ones = features[target == 1]\n",
    "    target_zeros = target[target == 0]\n",
    "    target_ones = target[target == 1]\n",
    "\n",
    "    features_upsampled = pd.concat([features_zeros] + [features_ones] * repeat)\n",
    "    target_upsampled = pd.concat([target_zeros] + [target_ones] * repeat)\n",
    "    \n",
    "    features_upsampled, target_upsampled = shuffle(\n",
    "        features_upsampled, target_upsampled, random_state=12345)\n",
    "    \n",
    "    return features_upsampled, target_upsampled\n",
    "\n",
    "features_upsampled, target_upsampled = upsample(features_train, target_train, 5)"
   ]
  },
  {
   "cell_type": "code",
   "execution_count": 87,
   "id": "85d56b45-a454-4730-9bc6-8909b17b3771",
   "metadata": {},
   "outputs": [],
   "source": [
    "model = LogisticRegression(random_state=12345, solver='liblinear')\n",
    "model.fit(features_upsampled, target_upsampled)\n",
    "\n",
    "predicted_valid = model.predict(features_valid)"
   ]
  },
  {
   "cell_type": "code",
   "execution_count": 88,
   "id": "7667868d-3364-446c-ae35-2dd5fbab7032",
   "metadata": {},
   "outputs": [
    {
     "data": {
      "text/plain": [
       "0.6451612903225806"
      ]
     },
     "execution_count": 88,
     "metadata": {},
     "output_type": "execute_result"
    }
   ],
   "source": [
    "f1_score(valid_predictions, target_valid)"
   ]
  },
  {
   "cell_type": "markdown",
   "id": "f61223ea-eb0a-486d-8924-73a0fa008105",
   "metadata": {},
   "source": [
    "## уменьшение выборки "
   ]
  },
  {
   "cell_type": "code",
   "execution_count": 91,
   "id": "2fb582de-15b6-4d5a-9735-d7cc43bf9e00",
   "metadata": {},
   "outputs": [],
   "source": [
    "def downsample(features, target, fraction):\n",
    "    features_zeros = features[target == 0]\n",
    "    features_ones = features[target == 1]\n",
    "    target_zeros = target[target == 0]\n",
    "    target_ones = target[target == 1]\n",
    "\n",
    "    features_downsampled = pd.concat(\n",
    "        [features_zeros.sample(frac=fraction, random_state=12345)] + [features_ones])\n",
    "    target_downsampled = pd.concat(\n",
    "        [target_zeros.sample(frac=fraction, random_state=12345)] + [target_ones])\n",
    "    \n",
    "    features_downsampled, target_downsampled = shuffle(\n",
    "        features_downsampled, target_downsampled, random_state=12345)\n",
    "    \n",
    "    return features_downsampled, target_downsampled\n",
    "\n",
    "features_downsampled, target_downsampled = downsample(features_train, target_train, 0.2)"
   ]
  },
  {
   "cell_type": "code",
   "execution_count": 92,
   "id": "bb145404-fb79-476e-821b-19f5e2bbc6d2",
   "metadata": {},
   "outputs": [],
   "source": [
    "model = LogisticRegression(random_state=12345, solver='liblinear')\n",
    "model.fit(features_downsampled, target_downsampled)\n",
    "\n",
    "predicted_valid = model.predict(features_valid)"
   ]
  },
  {
   "cell_type": "code",
   "execution_count": 93,
   "id": "08351a48-4a1b-4816-9fa0-d0d6e8c037dc",
   "metadata": {},
   "outputs": [
    {
     "data": {
      "text/plain": [
       "0.6451612903225806"
      ]
     },
     "execution_count": 93,
     "metadata": {},
     "output_type": "execute_result"
    }
   ],
   "source": [
    "f1_score(valid_predictions, target_valid)"
   ]
  },
  {
   "cell_type": "markdown",
   "id": "88fa1c4a-8ba9-4ba5-bbc9-e5059133e228",
   "metadata": {},
   "source": [
    "# Изменение порога "
   ]
  },
  {
   "cell_type": "code",
   "execution_count": 39,
   "id": "31e1d55c-6883-4cbc-9a0b-d2925228a358",
   "metadata": {},
   "outputs": [
    {
     "name": "stdout",
     "output_type": "stream",
     "text": [
      "Порог = 0.00 | Точность = 0.177, Полнота = 1.000\n",
      "Порог = 0.02 | Точность = 0.192, Полнота = 1.000\n",
      "Порог = 0.04 | Точность = 0.208, Полнота = 1.000\n",
      "Порог = 0.06 | Точность = 0.241, Полнота = 1.000\n",
      "Порог = 0.08 | Точность = 0.256, Полнота = 1.000\n",
      "Порог = 0.10 | Точность = 0.316, Полнота = 0.900\n",
      "Порог = 0.12 | Точность = 0.340, Полнота = 0.800\n",
      "Порог = 0.14 | Точность = 0.356, Полнота = 0.800\n",
      "Порог = 0.16 | Точность = 0.364, Полнота = 0.800\n",
      "Порог = 0.18 | Точность = 0.421, Полнота = 0.800\n",
      "Порог = 0.20 | Точность = 0.469, Полнота = 0.750\n",
      "Порог = 0.22 | Точность = 0.538, Полнота = 0.700\n",
      "Порог = 0.24 | Точность = 0.737, Полнота = 0.700\n",
      "Порог = 0.26 | Точность = 0.846, Полнота = 0.550\n",
      "Порог = 0.28 | Точность = 0.917, Полнота = 0.550\n"
     ]
    }
   ],
   "source": [
    "from sklearn.metrics import precision_score\n",
    "from sklearn.metrics import recall_score\n",
    "\n",
    "model = LogisticRegression(random_state=12345, solver='liblinear')\n",
    "model.fit(features_train, target_train)\n",
    "\n",
    "probabilities_valid = model.predict_proba(features_valid)\n",
    "\n",
    "probabilities_one_valid = probabilities_valid[:, 1]\n",
    "\n",
    "for threshold in np.arange(0, 0.3, 0.02):\n",
    "    predicted_valid = probabilities_one_valid > threshold \n",
    "    precision = precision_score(target_valid, predicted_valid)\n",
    "    recall = recall_score(target_valid, predicted_valid)\n",
    "\n",
    "    print(\"Порог = {:.2f} | Точность = {:.3f}, Полнота = {:.3f}\".format(\n",
    "        threshold, precision, recall))"
   ]
  },
  {
   "cell_type": "code",
   "execution_count": 40,
   "id": "26eb69c2-9cb4-4a45-9319-36331e4bb0fe",
   "metadata": {},
   "outputs": [
    {
     "data": {
      "image/png": "[encoded data removed]",
      "text/plain": [
       "<Figure size 600x600 with 1 Axes>"
      ]
     },
     "metadata": {},
     "output_type": "display_data"
    }
   ],
   "source": [
    "from sklearn.metrics import precision_recall_curve\n",
    "import matplotlib.pyplot as plt\n",
    "\n",
    "probabilities_valid = model.predict_proba(features_valid)\n",
    "precision, recall, thresholds = precision_recall_curve(target_valid, probabilities_valid[:, 1])\n",
    "\n",
    "plt.figure(figsize=(6, 6))\n",
    "plt.step(recall, precision, where='post')\n",
    "plt.xlabel('Recall')\n",
    "plt.ylabel('Precision')\n",
    "plt.ylim([0.0, 1.05])\n",
    "plt.xlim([0.0, 1.0])\n",
    "plt.title('Precision-Recall')\n",
    "plt.show() "
   ]
  },
  {
   "cell_type": "markdown",
   "id": "1c46f95a-713b-481c-a7f0-04c2bf38ff59",
   "metadata": {},
   "source": [
    "# ROC-кривая"
   ]
  },
  {
   "cell_type": "code",
   "execution_count": 41,
   "id": "7767681b-7abc-4ee2-9bac-a5e76a651793",
   "metadata": {},
   "outputs": [
    {
     "name": "stdout",
     "output_type": "stream",
     "text": [
      "0.8903225806451613\n"
     ]
    }
   ],
   "source": [
    "from sklearn.metrics import roc_auc_score \n",
    "\n",
    "probabilities_valid = model.predict_proba(features_valid)\n",
    "probabilities_one_valid = probabilities_valid[:, 1]\n",
    "\n",
    "auc_roc = roc_auc_score(target_valid, probabilities_one_valid)\n",
    "print(auc_roc)"
   ]
  },
  {
   "cell_type": "code",
   "execution_count": 42,
   "id": "44107c6c-e115-4b09-9d4c-ebdd68f8707c",
   "metadata": {},
   "outputs": [
    {
     "data": {
      "image/png": "[encoded data removed]",
      "text/plain": [
       "<Figure size 640x480 with 1 Axes>"
      ]
     },
     "metadata": {},
     "output_type": "display_data"
    }
   ],
   "source": [
    "from sklearn.metrics import roc_curve \n",
    "\n",
    "fpr, tpr, thresholds = roc_curve(target_valid, probabilities_one_valid) \n",
    "\n",
    "plt.figure()\n",
    "plt.plot(fpr, tpr)\n",
    "\n",
    "# ROC-кривая случайной модели (выглядит как прямая)\n",
    "plt.plot([0, 1], [0, 1], linestyle='--')\n",
    "\n",
    "#   установить границы осей от 0 до 1\n",
    "plt.xlim([0.0, 1.0])\n",
    "plt.ylim([0.0, 1.0])\n",
    "\n",
    "#   подписать оси \"False Positive Rate\" и \"True Positive Rate\" >\n",
    "plt.xlabel('False Positive Rate')\n",
    "plt.ylabel('True Positive Rate')\n",
    "\n",
    "# < добавьте к графику заголовок \"ROC-кривая\" функцией plt.title() >\n",
    "plt.title('ROC-кривая')\n",
    "plt.show()"
   ]
  },
  {
   "cell_type": "markdown",
   "id": "436b23a5-06e9-47a5-b7f4-2c2056c78278",
   "metadata": {},
   "source": [
    "# Коэффициент детерминации"
   ]
  },
  {
   "cell_type": "code",
   "execution_count": 103,
   "id": "51fb84fc-1cb9-4e41-b7b3-6b06618f3821",
   "metadata": {},
   "outputs": [
    {
     "name": "stdout",
     "output_type": "stream",
     "text": [
      "R2 = 0.43201145407497965\n"
     ]
    }
   ],
   "source": [
    "from sklearn.model_selection import train_test_split\n",
    "from sklearn.linear_model import LinearRegression\n",
    "from sklearn.metrics import r2_score\n",
    "\n",
    "df = pd.read_csv('./data/data_from_sslv.csv')\n",
    "df = df.drop(['Unnamed: 0','district','data_street','facilities'], axis=1)\n",
    "\n",
    "train, valid = train_test_split(df, test_size=0.25, random_state=12345)\n",
    "\n",
    "features_train = train.drop('price_eur', axis=1)\n",
    "target_train = train['price_eur']\n",
    "features_valid = valid.drop('price_eur', axis=1)\n",
    "target_valid = valid['price_eur']\n",
    "\n",
    "features_train, features_valid, target_train, target_valid = train_test_split(\n",
    "    features, target, test_size=0.25, random_state=12345)\n",
    "\n",
    "model = LinearRegression()\n",
    "model.fit(features_train, target_train)\n",
    "predicted_valid = model.predict(features_valid)\n",
    "\n",
    "\n",
    "print(\"R2 =\", r2_score(target_valid, predicted_valid))"
   ]
  },
  {
   "cell_type": "code",
   "execution_count": null,
   "id": "c01e2252-222e-4c52-bebf-61a1d44d943f",
   "metadata": {},
   "outputs": [],
   "source": []
  }
 ],
 "metadata": {
  "kernelspec": {
   "display_name": "Python 3 (ipykernel)",
   "language": "python",
   "name": "python3"
  },
  "language_info": {
   "codemirror_mode": {
    "name": "ipython",
    "version": 3
   },
   "file_extension": ".py",
   "mimetype": "text/x-python",
   "name": "python",
   "nbconvert_exporter": "python",
   "pygments_lexer": "ipython3",
   "version": "3.9.12"
  }
 },
 "nbformat": 4,
 "nbformat_minor": 5
}
